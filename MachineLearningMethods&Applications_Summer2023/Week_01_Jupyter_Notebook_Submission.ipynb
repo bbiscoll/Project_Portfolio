{
 "cells": [
  {
   "cell_type": "code",
   "execution_count": 4,
   "id": "d27c6961",
   "metadata": {
    "scrolled": true
   },
   "outputs": [
    {
     "name": "stdout",
     "output_type": "stream",
     "text": [
      "Hello World :) this is my first Jupyter Notebook\n"
     ]
    }
   ],
   "source": [
    "print(\"Hello World :) this is my first Jupyter Notebook\")"
   ]
  },
  {
   "cell_type": "code",
   "execution_count": 5,
   "id": "499f0cf2",
   "metadata": {},
   "outputs": [
    {
     "data": {
      "text/plain": [
       "2.4"
      ]
     },
     "execution_count": 5,
     "metadata": {},
     "output_type": "execute_result"
    }
   ],
   "source": [
    "## Math Syntax\n",
    "x=3\n",
    "y=4\n",
    "z=5\n",
    "x*y/z\n"
   ]
  },
  {
   "cell_type": "code",
   "execution_count": 6,
   "id": "f296601c",
   "metadata": {},
   "outputs": [],
   "source": [
    "## Package Imports\n",
    "import numpy\n",
    "import pandas\n",
    "%matplotlib inline\n",
    "import matplotlib.pylab as plt"
   ]
  },
  {
   "cell_type": "code",
   "execution_count": 7,
   "id": "493b489f",
   "metadata": {},
   "outputs": [
    {
     "data": {
      "text/plain": [
       "<matplotlib.collections.PathCollection at 0x1e7378404f0>"
      ]
     },
     "execution_count": 7,
     "metadata": {},
     "output_type": "execute_result"
    },
    {
     "data": {
      "image/png": "[encoded data removed]",
      "text/plain": [
       "<Figure size 640x480 with 1 Axes>"
      ]
     },
     "metadata": {},
     "output_type": "display_data"
    }
   ],
   "source": [
    "plt.scatter([3,2,5,7,4,2,6,3,6],\n",
    "            [3,4,6,8,0,3,1,1,3])"
   ]
  },
  {
   "cell_type": "code",
   "execution_count": 8,
   "id": "6601d194",
   "metadata": {},
   "outputs": [
    {
     "name": "stdout",
     "output_type": "stream",
     "text": [
      "Rude\n"
     ]
    }
   ],
   "source": [
    "print(\"Rude\")"
   ]
  },
  {
   "cell_type": "code",
   "execution_count": 9,
   "id": "c1db1505",
   "metadata": {},
   "outputs": [
    {
     "name": "stdout",
     "output_type": "stream",
     "text": [
      "1\n",
      "repeated loop\n",
      "2\n",
      "repeated loop\n",
      "3\n",
      "repeated loop\n",
      "4\n",
      "repeated loop\n",
      "5\n",
      "repeated loop\n",
      "6\n",
      "repeated loop\n",
      "7\n",
      "repeated loop\n",
      "8\n",
      "repeated loop\n",
      "9\n",
      "repeated loop\n",
      "10\n",
      "repeated loop\n",
      "11\n",
      "repeated loop\n",
      "12\n",
      "repeated loop\n",
      "13\n",
      "repeated loop\n",
      "14\n",
      "repeated loop\n",
      "15\n",
      "repeated loop\n",
      "16\n",
      "repeated loop\n",
      "17\n",
      "repeated loop\n",
      "18\n",
      "repeated loop\n",
      "19\n",
      "repeated loop\n",
      "20\n",
      "repeated loop\n",
      "21\n",
      "repeated loop\n",
      "22\n",
      "repeated loop\n",
      "23\n",
      "repeated loop\n",
      "24\n",
      "repeated loop\n",
      "25\n",
      "repeated loop\n",
      "26\n",
      "repeated loop\n",
      "27\n",
      "repeated loop\n",
      "28\n",
      "repeated loop\n",
      "29\n",
      "repeated loop\n",
      "30\n",
      "repeated loop\n",
      "31\n",
      "repeated loop\n",
      "32\n",
      "repeated loop\n",
      "33\n",
      "repeated loop\n",
      "34\n",
      "repeated loop\n",
      "35\n",
      "repeated loop\n",
      "36\n",
      "repeated loop\n",
      "37\n",
      "repeated loop\n",
      "38\n",
      "repeated loop\n",
      "39\n",
      "repeated loop\n",
      "40\n",
      "repeated loop\n",
      "41\n",
      "repeated loop\n",
      "42\n",
      "repeated loop\n",
      "43\n",
      "repeated loop\n",
      "44\n",
      "repeated loop\n",
      "45\n",
      "repeated loop\n",
      "46\n",
      "repeated loop\n",
      "47\n",
      "repeated loop\n",
      "48\n",
      "repeated loop\n",
      "49\n",
      "repeated loop\n",
      "50\n",
      "repeated loop\n",
      "51\n",
      "repeated loop\n",
      "52\n",
      "repeated loop\n",
      "53\n",
      "repeated loop\n",
      "54\n",
      "repeated loop\n",
      "55\n",
      "repeated loop\n",
      "56\n",
      "repeated loop\n",
      "57\n",
      "repeated loop\n",
      "58\n",
      "repeated loop\n",
      "59\n",
      "repeated loop\n",
      "60\n",
      "repeated loop\n",
      "61\n",
      "repeated loop\n",
      "62\n",
      "repeated loop\n",
      "63\n",
      "repeated loop\n",
      "64\n",
      "repeated loop\n",
      "65\n",
      "repeated loop\n",
      "66\n",
      "repeated loop\n",
      "67\n",
      "repeated loop\n",
      "68\n",
      "repeated loop\n",
      "69\n",
      "repeated loop\n",
      "70\n",
      "repeated loop\n",
      "71\n",
      "repeated loop\n",
      "72\n",
      "repeated loop\n",
      "73\n",
      "repeated loop\n",
      "74\n",
      "repeated loop\n",
      "75\n",
      "repeated loop\n",
      "76\n",
      "repeated loop\n",
      "77\n",
      "repeated loop\n",
      "78\n",
      "repeated loop\n",
      "79\n",
      "repeated loop\n",
      "80\n",
      "repeated loop\n",
      "81\n",
      "repeated loop\n",
      "82\n",
      "repeated loop\n",
      "83\n",
      "repeated loop\n",
      "84\n",
      "repeated loop\n",
      "85\n",
      "repeated loop\n",
      "86\n",
      "repeated loop\n",
      "87\n",
      "repeated loop\n",
      "88\n",
      "repeated loop\n",
      "89\n",
      "repeated loop\n",
      "90\n",
      "repeated loop\n",
      "91\n",
      "repeated loop\n",
      "92\n",
      "repeated loop\n",
      "93\n",
      "repeated loop\n",
      "94\n",
      "repeated loop\n",
      "95\n",
      "repeated loop\n",
      "96\n",
      "repeated loop\n",
      "97\n",
      "repeated loop\n",
      "98\n",
      "repeated loop\n",
      "99\n",
      "repeated loop\n",
      "100\n",
      "repeated loop\n"
     ]
    }
   ],
   "source": [
    "## Changing this section, as I was encountering issues with exporting to PDF\n",
    "i = 0\n",
    "for i in range(100):\n",
    "    i = i + 1\n",
    "    print(i)\n",
    "    print(\"repeated loop\")"
   ]
  }
 ],
 "metadata": {
  "kernelspec": {
   "display_name": "Python 3 (ipykernel)",
   "language": "python",
   "name": "python3"
  },
  "language_info": {
   "codemirror_mode": {
    "name": "ipython",
    "version": 3
   },
   "file_extension": ".py",
   "mimetype": "text/x-python",
   "name": "python",
   "nbconvert_exporter": "python",
   "pygments_lexer": "ipython3",
   "version": "3.10.9"
  }
 },
 "nbformat": 4,
 "nbformat_minor": 5
}
