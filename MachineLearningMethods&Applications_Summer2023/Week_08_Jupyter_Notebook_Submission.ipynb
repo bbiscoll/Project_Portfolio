{
 "cells": [
  {
   "cell_type": "markdown",
   "metadata": {},
   "source": [
    "# Clustering "
   ]
  },
  {
   "cell_type": "markdown",
   "metadata": {},
   "source": [
    "## 1. DBSCAN\n",
    "Using DBSCAN iterate (for-loop) through different values of `min_samples` (1 to 10) and `epsilon` (.05 to .5, in steps of .01)  to find clusters in the road-data used in the Lesson and calculate the Silohouette Coeff for `min_samples` and `epsilon`. Plot **_one_** line plot with the multiple lines generated from the min_samples and epsilon values. Use a 2D array to store the SilCoeff values, one dimension represents `min_samples`, the other represents epsilon.\n",
    "\n",
    "Expecting a plot of `epsilon` vs `sil_score`."
   ]
  },
  {
   "cell_type": "code",
   "execution_count": 1,
   "metadata": {},
   "outputs": [],
   "source": [
    "# Import Needed Packages\n",
    "import numpy as np\n",
    "from sklearn.cluster import DBSCAN\n",
    "from sklearn.cluster import KMeans\n",
    "from sklearn import metrics\n",
    "import matplotlib.pyplot as plt\n",
    "\n",
    "\n",
    "dbscan = DBSCAN(eps=.12)\n",
    "\n",
    "# Import Road Data\n",
    "import pandas as pd\n",
    "roads = pd.read_csv('../data/3D_spatial_network.txt.gz', header=None, names=['osm', 'lat','lon','alt'])\n",
    "roads = roads.drop(['osm'], axis=1).sample(10000)\n",
    "roads.head()\n",
    "\n",
    "# Setup Lists\n",
    "min_samples = range(1, 11)\n",
    "epsilons = np.arange(0.05, 0.51, 0.01)"
   ]
  },
  {
   "cell_type": "code",
   "execution_count": 2,
   "metadata": {
    "scrolled": true
   },
   "outputs": [
    {
     "data": {
      "text/plain": [
       "array([0.05, 0.06, 0.07, 0.08, 0.09, 0.1 , 0.11, 0.12, 0.13, 0.14, 0.15,\n",
       "       0.16, 0.17, 0.18, 0.19, 0.2 , 0.21, 0.22, 0.23, 0.24, 0.25, 0.26,\n",
       "       0.27, 0.28, 0.29, 0.3 , 0.31, 0.32, 0.33, 0.34, 0.35, 0.36, 0.37,\n",
       "       0.38, 0.39, 0.4 , 0.41, 0.42, 0.43, 0.44, 0.45, 0.46, 0.47, 0.48,\n",
       "       0.49, 0.5 ])"
      ]
     },
     "execution_count": 2,
     "metadata": {},
     "output_type": "execute_result"
    }
   ],
   "source": [
    "min_samples\n",
    "epsilons"
   ]
  },
  {
   "cell_type": "code",
   "execution_count": 3,
   "metadata": {
    "scrolled": true
   },
   "outputs": [],
   "source": [
    "########################################\n",
    "all_scores = []\n",
    "for min_sample in min_samples:\n",
    "    scores = []\n",
    "    for epsilon in epsilons:\n",
    "        \n",
    "        dbscan = DBSCAN(eps=epsilon)\n",
    "        roads['cluster'] = dbscan.fit_predict(roads[['lat','lon', 'alt']])\n",
    "        km = KMeans(n_clusters=min_sample, random_state=123)\n",
    "\n",
    "        # calculate silouette score here\n",
    "        score = metrics.silhouette_score(roads[['lon', 'lat', 'alt']], roads['cluster'])\n",
    "        \n",
    "        scores.append(score)\n",
    "        \n",
    "    all_scores.append(scores)"
   ]
  },
  {
   "cell_type": "code",
   "execution_count": 4,
   "metadata": {},
   "outputs": [],
   "source": [
    "mins_combo = []\n",
    "epsilons_combo = []\n",
    "for min_sample in min_samples:\n",
    "    for epsilon in epsilons:\n",
    "        mins_combo_iteration = min_sample\n",
    "        epsilons_combo_iteration = epsilon\n",
    "        mins_combo.append(mins_combo_iteration)\n",
    "        epsilons_combo.append(epsilons_combo_iteration)"
   ]
  },
  {
   "cell_type": "code",
   "execution_count": 5,
   "metadata": {},
   "outputs": [],
   "source": [
    "# Need to Flatten List\n",
    "import itertools\n",
    "all_scores_flattened = list(itertools.chain.from_iterable(all_scores))"
   ]
  },
  {
   "cell_type": "code",
   "execution_count": 6,
   "metadata": {},
   "outputs": [
    {
     "data": {
      "text/plain": [
       "(460, 460, 460)"
      ]
     },
     "execution_count": 6,
     "metadata": {},
     "output_type": "execute_result"
    }
   ],
   "source": [
    "# Check Lengths Match \n",
    "(\n",
    "len(all_scores_flattened),\n",
    "len(mins_combo),\n",
    "len(epsilons_combo)\n",
    "    )\n"
   ]
  },
  {
   "cell_type": "code",
   "execution_count": 7,
   "metadata": {
    "scrolled": false
   },
   "outputs": [
    {
     "data": {
      "text/plain": [
       "array([[-0.68659636, -0.70049173, -0.68915341, ..., -0.49711774,\n",
       "        -0.49694127, -0.49858941],\n",
       "       [ 1.        ,  1.        ,  1.        , ..., 10.        ,\n",
       "        10.        , 10.        ],\n",
       "       [ 0.05      ,  0.06      ,  0.07      , ...,  0.48      ,\n",
       "         0.49      ,  0.5       ]])"
      ]
     },
     "execution_count": 7,
     "metadata": {},
     "output_type": "execute_result"
    }
   ],
   "source": [
    "scores_min_epsilons = np.array([all_scores_flattened,mins_combo,epsilons_combo])\n",
    "scores_min_epsilons.shape\n",
    "scores_min_epsilons"
   ]
  },
  {
   "cell_type": "code",
   "execution_count": 8,
   "metadata": {
    "scrolled": true
   },
   "outputs": [
    {
     "data": {
      "text/html": [
       "<div>\n",
       "<style scoped>\n",
       "    .dataframe tbody tr th:only-of-type {\n",
       "        vertical-align: middle;\n",
       "    }\n",
       "\n",
       "    .dataframe tbody tr th {\n",
       "        vertical-align: top;\n",
       "    }\n",
       "\n",
       "    .dataframe thead th {\n",
       "        text-align: right;\n",
       "    }\n",
       "</style>\n",
       "<table border=\"1\" class=\"dataframe\">\n",
       "  <thead>\n",
       "    <tr style=\"text-align: right;\">\n",
       "      <th></th>\n",
       "      <th>Scores</th>\n",
       "      <th>Min_Samples</th>\n",
       "      <th>Epsilons</th>\n",
       "    </tr>\n",
       "  </thead>\n",
       "  <tbody>\n",
       "    <tr>\n",
       "      <th>0</th>\n",
       "      <td>-0.686596</td>\n",
       "      <td>1.0</td>\n",
       "      <td>0.05</td>\n",
       "    </tr>\n",
       "    <tr>\n",
       "      <th>1</th>\n",
       "      <td>-0.700492</td>\n",
       "      <td>1.0</td>\n",
       "      <td>0.06</td>\n",
       "    </tr>\n",
       "    <tr>\n",
       "      <th>2</th>\n",
       "      <td>-0.689153</td>\n",
       "      <td>1.0</td>\n",
       "      <td>0.07</td>\n",
       "    </tr>\n",
       "    <tr>\n",
       "      <th>3</th>\n",
       "      <td>-0.719220</td>\n",
       "      <td>1.0</td>\n",
       "      <td>0.08</td>\n",
       "    </tr>\n",
       "    <tr>\n",
       "      <th>4</th>\n",
       "      <td>-0.739934</td>\n",
       "      <td>1.0</td>\n",
       "      <td>0.09</td>\n",
       "    </tr>\n",
       "    <tr>\n",
       "      <th>...</th>\n",
       "      <td>...</td>\n",
       "      <td>...</td>\n",
       "      <td>...</td>\n",
       "    </tr>\n",
       "    <tr>\n",
       "      <th>455</th>\n",
       "      <td>-0.505138</td>\n",
       "      <td>10.0</td>\n",
       "      <td>0.46</td>\n",
       "    </tr>\n",
       "    <tr>\n",
       "      <th>456</th>\n",
       "      <td>-0.483256</td>\n",
       "      <td>10.0</td>\n",
       "      <td>0.47</td>\n",
       "    </tr>\n",
       "    <tr>\n",
       "      <th>457</th>\n",
       "      <td>-0.497118</td>\n",
       "      <td>10.0</td>\n",
       "      <td>0.48</td>\n",
       "    </tr>\n",
       "    <tr>\n",
       "      <th>458</th>\n",
       "      <td>-0.496941</td>\n",
       "      <td>10.0</td>\n",
       "      <td>0.49</td>\n",
       "    </tr>\n",
       "    <tr>\n",
       "      <th>459</th>\n",
       "      <td>-0.498589</td>\n",
       "      <td>10.0</td>\n",
       "      <td>0.50</td>\n",
       "    </tr>\n",
       "  </tbody>\n",
       "</table>\n",
       "<p>460 rows × 3 columns</p>\n",
       "</div>"
      ],
      "text/plain": [
       "       Scores  Min_Samples  Epsilons\n",
       "0   -0.686596          1.0      0.05\n",
       "1   -0.700492          1.0      0.06\n",
       "2   -0.689153          1.0      0.07\n",
       "3   -0.719220          1.0      0.08\n",
       "4   -0.739934          1.0      0.09\n",
       "..        ...          ...       ...\n",
       "455 -0.505138         10.0      0.46\n",
       "456 -0.483256         10.0      0.47\n",
       "457 -0.497118         10.0      0.48\n",
       "458 -0.496941         10.0      0.49\n",
       "459 -0.498589         10.0      0.50\n",
       "\n",
       "[460 rows x 3 columns]"
      ]
     },
     "execution_count": 8,
     "metadata": {},
     "output_type": "execute_result"
    }
   ],
   "source": [
    "silcoeff = pd.DataFrame(scores_min_epsilons)\n",
    "silcoeff = silcoeff.transpose()\n",
    "silcoeff = silcoeff.rename(columns={0: 'Scores', 1: 'Min_Samples', 2: 'Epsilons'})\n",
    "silcoeff\n"
   ]
  },
  {
   "cell_type": "code",
   "execution_count": 9,
   "metadata": {},
   "outputs": [
    {
     "data": {
      "image/png": "[encoded data removed]",
      "text/plain": [
       "<Figure size 640x480 with 1 Axes>"
      ]
     },
     "metadata": {},
     "output_type": "display_data"
    }
   ],
   "source": [
    "# Groups\n",
    "silcoeff_groups = silcoeff.groupby('Min_Samples')\n",
    "silcoeff\n",
    "# Create a new figure\n",
    "fig, ax = plt.subplots()\n",
    "\n",
    "# Generate lines for each group\n",
    "for group_name, group_data in silcoeff_groups:\n",
    "    ax.plot(group_data['Epsilons'], group_data['Scores'], label=group_name)\n",
    "    \n",
    "ax.set_xlabel('Min_Samples')\n",
    "ax.set_ylabel('Epsilons')\n",
    "ax.set_title('Comparison Plot')\n",
    "ax.legend()\n",
    "plt.show()"
   ]
  },
  {
   "cell_type": "code",
   "execution_count": 10,
   "metadata": {},
   "outputs": [],
   "source": [
    "filtered_silcoeff = silcoeff[silcoeff['Epsilons'] == .05]\n",
    "# Only one line is visible as despite varying epsilon values, the resulting silhouette score are the same; \n",
    "# the result is that the ten lines overlap. This seems unusual but I cannot find what is causing the lines to return the same."
   ]
  },
  {
   "cell_type": "markdown",
   "metadata": {},
   "source": [
    "## 2. Clustering your own data\n",
    "\n",
    "Using your own data, find relevant clusters/groups within your data (repeat the above). If your data is labeled with a class that you are attempting to predict, be sure to not use it in training and clustering. \n",
    "\n",
    "You may use the labels to compare with predictions to show how well the clustering performed using one of the clustering metrics (http://scikit-learn.org/stable/modules/clustering.html#clustering-performance-evaluation). \n",
    "\n",
    "If you don't have labels, use the silhouette coefficient to show performance. Find the optimal fit for your data but you don't need to be as exhaustive as above.\n",
    "\n",
    "Additionally, show the clusters in 2D or 3D plots. \n",
    "\n",
    "As a bonus, try using PCA first to condense your data from N columns to less than N.\n",
    "\n",
    "Two items are expected: \n",
    "- Metric Evaluation Plot (like in 1.)\n",
    "- Plots of the clustered data"
   ]
  },
  {
   "cell_type": "code",
   "execution_count": 11,
   "metadata": {},
   "outputs": [
    {
     "data": {
      "text/html": [
       "<div>\n",
       "<style scoped>\n",
       "    .dataframe tbody tr th:only-of-type {\n",
       "        vertical-align: middle;\n",
       "    }\n",
       "\n",
       "    .dataframe tbody tr th {\n",
       "        vertical-align: top;\n",
       "    }\n",
       "\n",
       "    .dataframe thead th {\n",
       "        text-align: right;\n",
       "    }\n",
       "</style>\n",
       "<table border=\"1\" class=\"dataframe\">\n",
       "  <thead>\n",
       "    <tr style=\"text-align: right;\">\n",
       "      <th></th>\n",
       "      <th>popularity</th>\n",
       "      <th>revenue</th>\n",
       "      <th>runtime</th>\n",
       "      <th>vote_average</th>\n",
       "      <th>vote_count</th>\n",
       "    </tr>\n",
       "  </thead>\n",
       "  <tbody>\n",
       "    <tr>\n",
       "      <th>0</th>\n",
       "      <td>150.437577</td>\n",
       "      <td>2787965087</td>\n",
       "      <td>162.0</td>\n",
       "      <td>7.2</td>\n",
       "      <td>11800</td>\n",
       "    </tr>\n",
       "    <tr>\n",
       "      <th>1</th>\n",
       "      <td>139.082615</td>\n",
       "      <td>961000000</td>\n",
       "      <td>169.0</td>\n",
       "      <td>6.9</td>\n",
       "      <td>4500</td>\n",
       "    </tr>\n",
       "    <tr>\n",
       "      <th>2</th>\n",
       "      <td>107.376788</td>\n",
       "      <td>880674609</td>\n",
       "      <td>148.0</td>\n",
       "      <td>6.3</td>\n",
       "      <td>4466</td>\n",
       "    </tr>\n",
       "    <tr>\n",
       "      <th>3</th>\n",
       "      <td>112.312950</td>\n",
       "      <td>1084939099</td>\n",
       "      <td>165.0</td>\n",
       "      <td>7.6</td>\n",
       "      <td>9106</td>\n",
       "    </tr>\n",
       "    <tr>\n",
       "      <th>4</th>\n",
       "      <td>43.926995</td>\n",
       "      <td>284139100</td>\n",
       "      <td>132.0</td>\n",
       "      <td>6.1</td>\n",
       "      <td>2124</td>\n",
       "    </tr>\n",
       "    <tr>\n",
       "      <th>...</th>\n",
       "      <td>...</td>\n",
       "      <td>...</td>\n",
       "      <td>...</td>\n",
       "      <td>...</td>\n",
       "      <td>...</td>\n",
       "    </tr>\n",
       "    <tr>\n",
       "      <th>4798</th>\n",
       "      <td>14.269792</td>\n",
       "      <td>2040920</td>\n",
       "      <td>81.0</td>\n",
       "      <td>6.6</td>\n",
       "      <td>238</td>\n",
       "    </tr>\n",
       "    <tr>\n",
       "      <th>4799</th>\n",
       "      <td>0.642552</td>\n",
       "      <td>0</td>\n",
       "      <td>85.0</td>\n",
       "      <td>5.9</td>\n",
       "      <td>5</td>\n",
       "    </tr>\n",
       "    <tr>\n",
       "      <th>4800</th>\n",
       "      <td>1.444476</td>\n",
       "      <td>0</td>\n",
       "      <td>120.0</td>\n",
       "      <td>7.0</td>\n",
       "      <td>6</td>\n",
       "    </tr>\n",
       "    <tr>\n",
       "      <th>4801</th>\n",
       "      <td>0.857008</td>\n",
       "      <td>0</td>\n",
       "      <td>98.0</td>\n",
       "      <td>5.7</td>\n",
       "      <td>7</td>\n",
       "    </tr>\n",
       "    <tr>\n",
       "      <th>4802</th>\n",
       "      <td>1.929883</td>\n",
       "      <td>0</td>\n",
       "      <td>90.0</td>\n",
       "      <td>6.3</td>\n",
       "      <td>16</td>\n",
       "    </tr>\n",
       "  </tbody>\n",
       "</table>\n",
       "<p>4803 rows × 5 columns</p>\n",
       "</div>"
      ],
      "text/plain": [
       "      popularity     revenue  runtime  vote_average  vote_count\n",
       "0     150.437577  2787965087    162.0           7.2       11800\n",
       "1     139.082615   961000000    169.0           6.9        4500\n",
       "2     107.376788   880674609    148.0           6.3        4466\n",
       "3     112.312950  1084939099    165.0           7.6        9106\n",
       "4      43.926995   284139100    132.0           6.1        2124\n",
       "...          ...         ...      ...           ...         ...\n",
       "4798   14.269792     2040920     81.0           6.6         238\n",
       "4799    0.642552           0     85.0           5.9           5\n",
       "4800    1.444476           0    120.0           7.0           6\n",
       "4801    0.857008           0     98.0           5.7           7\n",
       "4802    1.929883           0     90.0           6.3          16\n",
       "\n",
       "[4803 rows x 5 columns]"
      ]
     },
     "execution_count": 11,
     "metadata": {},
     "output_type": "execute_result"
    }
   ],
   "source": [
    "# Reading In Resume Data\n",
    "# Source: 'https://www.kaggle.com/datasets/tmdb/tmdb-movie-metadata'\n",
    "movies_base = pd.read_csv(\"../data/tmdb_5000_movies.csv\") \n",
    "movies_lean = movies_base[['popularity', 'revenue', 'runtime','vote_average','vote_count']]\n",
    "movies_lean"
   ]
  },
  {
   "cell_type": "code",
   "execution_count": 13,
   "metadata": {},
   "outputs": [
    {
     "data": {
      "text/plain": [
       "4803"
      ]
     },
     "execution_count": 13,
     "metadata": {},
     "output_type": "execute_result"
    }
   ],
   "source": [
    "movies_lean = movies_lean.dropna(axis=1)\n",
    "movies_no_NaN = movies_lean.dropna(axis=1)\n",
    "len(movies_no_NaN)"
   ]
  },
  {
   "cell_type": "code",
   "execution_count": 14,
   "metadata": {},
   "outputs": [
    {
     "data": {
      "text/plain": [
       "(range(1, 11),\n",
       " array([0.05, 0.1 , 0.15, 0.2 , 0.25, 0.3 , 0.35, 0.4 , 0.45, 0.5 ]))"
      ]
     },
     "execution_count": 14,
     "metadata": {},
     "output_type": "execute_result"
    }
   ],
   "source": [
    "# Setup Lists\n",
    "movies_min_samples = range(1, 11)\n",
    "movies_epsilons = np.arange(0.05, 0.51, 0.05)\n",
    "(movies_min_samples,movies_epsilons)"
   ]
  },
  {
   "cell_type": "code",
   "execution_count": 15,
   "metadata": {},
   "outputs": [
    {
     "name": "stderr",
     "output_type": "stream",
     "text": [
      "C:\\Users\\Brett\\AppData\\Local\\Temp\\ipykernel_9116\\2493852444.py:8: UserWarning: Pandas doesn't allow columns to be created via a new attribute name - see https://pandas.pydata.org/pandas-docs/stable/indexing.html#attribute-access\n",
      "  movies_lean.cluster = dbscan.fit_predict(movies_lean)\n"
     ]
    }
   ],
   "source": [
    "########################################\n",
    "all_movie_scores = []\n",
    "for min_sample in movies_min_samples:\n",
    "    movie_scores = []\n",
    "    for epsilon in movies_epsilons:\n",
    "        \n",
    "        dbscan = DBSCAN(eps=epsilon)\n",
    "        movies_lean.cluster = dbscan.fit_predict(movies_lean)\n",
    "        km = KMeans(n_clusters=movies_min_samples, random_state=123)\n",
    "\n",
    "        # calculate silouette score here\n",
    "        movie_score = metrics.silhouette_score(movies_lean, movies_lean.cluster)\n",
    "        \n",
    "        movie_scores.append(movie_score)\n",
    "        \n",
    "    all_movie_scores.append(movie_scores)"
   ]
  },
  {
   "cell_type": "code",
   "execution_count": 16,
   "metadata": {},
   "outputs": [],
   "source": [
    "all_movie_scores_flattened = list(itertools.chain.from_iterable(all_movie_scores))\n",
    "# all_movie_scores_flattened"
   ]
  },
  {
   "cell_type": "code",
   "execution_count": 17,
   "metadata": {},
   "outputs": [],
   "source": [
    "movie_mins_combo = []\n",
    "movie_epsilons_combo = []\n",
    "for min_sample in movies_min_samples:\n",
    "    for epsilon in movies_epsilons:\n",
    "        mins_combo_iteration = min_sample\n",
    "        epsilons_combo_iteration = epsilon\n",
    "        movie_mins_combo.append(mins_combo_iteration)\n",
    "        movie_epsilons_combo.append(epsilons_combo_iteration)"
   ]
  },
  {
   "cell_type": "code",
   "execution_count": 18,
   "metadata": {},
   "outputs": [
    {
     "data": {
      "text/plain": [
       "(100, 100, 100)"
      ]
     },
     "execution_count": 18,
     "metadata": {},
     "output_type": "execute_result"
    }
   ],
   "source": [
    "(\n",
    "len(all_movie_scores_flattened),\n",
    "len(movie_mins_combo),\n",
    "len(movie_epsilons_combo)\n",
    ")"
   ]
  },
  {
   "cell_type": "code",
   "execution_count": 19,
   "metadata": {},
   "outputs": [
    {
     "data": {
      "text/html": [
       "<div>\n",
       "<style scoped>\n",
       "    .dataframe tbody tr th:only-of-type {\n",
       "        vertical-align: middle;\n",
       "    }\n",
       "\n",
       "    .dataframe tbody tr th {\n",
       "        vertical-align: top;\n",
       "    }\n",
       "\n",
       "    .dataframe thead th {\n",
       "        text-align: right;\n",
       "    }\n",
       "</style>\n",
       "<table border=\"1\" class=\"dataframe\">\n",
       "  <thead>\n",
       "    <tr style=\"text-align: right;\">\n",
       "      <th></th>\n",
       "      <th>Scores</th>\n",
       "      <th>Min_Samples</th>\n",
       "      <th>Epsilons</th>\n",
       "    </tr>\n",
       "  </thead>\n",
       "  <tbody>\n",
       "    <tr>\n",
       "      <th>0</th>\n",
       "      <td>-0.686596</td>\n",
       "      <td>1.0</td>\n",
       "      <td>0.05</td>\n",
       "    </tr>\n",
       "    <tr>\n",
       "      <th>1</th>\n",
       "      <td>-0.700492</td>\n",
       "      <td>1.0</td>\n",
       "      <td>0.06</td>\n",
       "    </tr>\n",
       "    <tr>\n",
       "      <th>2</th>\n",
       "      <td>-0.689153</td>\n",
       "      <td>1.0</td>\n",
       "      <td>0.07</td>\n",
       "    </tr>\n",
       "    <tr>\n",
       "      <th>3</th>\n",
       "      <td>-0.719220</td>\n",
       "      <td>1.0</td>\n",
       "      <td>0.08</td>\n",
       "    </tr>\n",
       "    <tr>\n",
       "      <th>4</th>\n",
       "      <td>-0.739934</td>\n",
       "      <td>1.0</td>\n",
       "      <td>0.09</td>\n",
       "    </tr>\n",
       "    <tr>\n",
       "      <th>...</th>\n",
       "      <td>...</td>\n",
       "      <td>...</td>\n",
       "      <td>...</td>\n",
       "    </tr>\n",
       "    <tr>\n",
       "      <th>455</th>\n",
       "      <td>-0.505138</td>\n",
       "      <td>10.0</td>\n",
       "      <td>0.46</td>\n",
       "    </tr>\n",
       "    <tr>\n",
       "      <th>456</th>\n",
       "      <td>-0.483256</td>\n",
       "      <td>10.0</td>\n",
       "      <td>0.47</td>\n",
       "    </tr>\n",
       "    <tr>\n",
       "      <th>457</th>\n",
       "      <td>-0.497118</td>\n",
       "      <td>10.0</td>\n",
       "      <td>0.48</td>\n",
       "    </tr>\n",
       "    <tr>\n",
       "      <th>458</th>\n",
       "      <td>-0.496941</td>\n",
       "      <td>10.0</td>\n",
       "      <td>0.49</td>\n",
       "    </tr>\n",
       "    <tr>\n",
       "      <th>459</th>\n",
       "      <td>-0.498589</td>\n",
       "      <td>10.0</td>\n",
       "      <td>0.50</td>\n",
       "    </tr>\n",
       "  </tbody>\n",
       "</table>\n",
       "<p>460 rows × 3 columns</p>\n",
       "</div>"
      ],
      "text/plain": [
       "       Scores  Min_Samples  Epsilons\n",
       "0   -0.686596          1.0      0.05\n",
       "1   -0.700492          1.0      0.06\n",
       "2   -0.689153          1.0      0.07\n",
       "3   -0.719220          1.0      0.08\n",
       "4   -0.739934          1.0      0.09\n",
       "..        ...          ...       ...\n",
       "455 -0.505138         10.0      0.46\n",
       "456 -0.483256         10.0      0.47\n",
       "457 -0.497118         10.0      0.48\n",
       "458 -0.496941         10.0      0.49\n",
       "459 -0.498589         10.0      0.50\n",
       "\n",
       "[460 rows x 3 columns]"
      ]
     },
     "execution_count": 19,
     "metadata": {},
     "output_type": "execute_result"
    }
   ],
   "source": [
    "# Using Silhouette To Show Performance\n",
    "movie_scores_min_epsilons = np.array([all_movie_scores_flattened,movie_mins_combo,movie_epsilons_combo])\n",
    "movie_scores_min_epsilons.shape\n",
    "# movie_scores_min_epsilons\n",
    "movie_silcoeff = pd.DataFrame(scores_min_epsilons)\n",
    "movie_silcoeff = silcoeff.transpose()\n",
    "movie_silcoeff = silcoeff.rename(columns={0: 'Scores', 1: 'Min_Samples', 2: 'Epsilons'})\n",
    "movie_silcoeff"
   ]
  },
  {
   "cell_type": "code",
   "execution_count": 20,
   "metadata": {},
   "outputs": [
    {
     "data": {
      "text/html": [
       "<div>\n",
       "<style scoped>\n",
       "    .dataframe tbody tr th:only-of-type {\n",
       "        vertical-align: middle;\n",
       "    }\n",
       "\n",
       "    .dataframe tbody tr th {\n",
       "        vertical-align: top;\n",
       "    }\n",
       "\n",
       "    .dataframe thead th {\n",
       "        text-align: right;\n",
       "    }\n",
       "</style>\n",
       "<table border=\"1\" class=\"dataframe\">\n",
       "  <thead>\n",
       "    <tr style=\"text-align: right;\">\n",
       "      <th></th>\n",
       "      <th>Scores</th>\n",
       "      <th>Min_Samples</th>\n",
       "      <th>Epsilons</th>\n",
       "    </tr>\n",
       "  </thead>\n",
       "  <tbody>\n",
       "    <tr>\n",
       "      <th>418</th>\n",
       "      <td>-0.739934</td>\n",
       "      <td>10.0</td>\n",
       "      <td>0.09</td>\n",
       "    </tr>\n",
       "    <tr>\n",
       "      <th>234</th>\n",
       "      <td>-0.739934</td>\n",
       "      <td>6.0</td>\n",
       "      <td>0.09</td>\n",
       "    </tr>\n",
       "    <tr>\n",
       "      <th>4</th>\n",
       "      <td>-0.739934</td>\n",
       "      <td>1.0</td>\n",
       "      <td>0.09</td>\n",
       "    </tr>\n",
       "    <tr>\n",
       "      <th>96</th>\n",
       "      <td>-0.739934</td>\n",
       "      <td>3.0</td>\n",
       "      <td>0.09</td>\n",
       "    </tr>\n",
       "    <tr>\n",
       "      <th>372</th>\n",
       "      <td>-0.739934</td>\n",
       "      <td>9.0</td>\n",
       "      <td>0.09</td>\n",
       "    </tr>\n",
       "    <tr>\n",
       "      <th>...</th>\n",
       "      <td>...</td>\n",
       "      <td>...</td>\n",
       "      <td>...</td>\n",
       "    </tr>\n",
       "    <tr>\n",
       "      <th>149</th>\n",
       "      <td>-0.404238</td>\n",
       "      <td>4.0</td>\n",
       "      <td>0.16</td>\n",
       "    </tr>\n",
       "    <tr>\n",
       "      <th>11</th>\n",
       "      <td>-0.404238</td>\n",
       "      <td>1.0</td>\n",
       "      <td>0.16</td>\n",
       "    </tr>\n",
       "    <tr>\n",
       "      <th>103</th>\n",
       "      <td>-0.404238</td>\n",
       "      <td>3.0</td>\n",
       "      <td>0.16</td>\n",
       "    </tr>\n",
       "    <tr>\n",
       "      <th>379</th>\n",
       "      <td>-0.404238</td>\n",
       "      <td>9.0</td>\n",
       "      <td>0.16</td>\n",
       "    </tr>\n",
       "    <tr>\n",
       "      <th>57</th>\n",
       "      <td>-0.404238</td>\n",
       "      <td>2.0</td>\n",
       "      <td>0.16</td>\n",
       "    </tr>\n",
       "  </tbody>\n",
       "</table>\n",
       "<p>460 rows × 3 columns</p>\n",
       "</div>"
      ],
      "text/plain": [
       "       Scores  Min_Samples  Epsilons\n",
       "418 -0.739934         10.0      0.09\n",
       "234 -0.739934          6.0      0.09\n",
       "4   -0.739934          1.0      0.09\n",
       "96  -0.739934          3.0      0.09\n",
       "372 -0.739934          9.0      0.09\n",
       "..        ...          ...       ...\n",
       "149 -0.404238          4.0      0.16\n",
       "11  -0.404238          1.0      0.16\n",
       "103 -0.404238          3.0      0.16\n",
       "379 -0.404238          9.0      0.16\n",
       "57  -0.404238          2.0      0.16\n",
       "\n",
       "[460 rows x 3 columns]"
      ]
     },
     "execution_count": 20,
     "metadata": {},
     "output_type": "execute_result"
    }
   ],
   "source": [
    "movie_silcoeff_sorted = movie_silcoeff.sort_values(by='Scores')\n",
    "movie_silcoeff_sorted"
   ]
  },
  {
   "cell_type": "code",
   "execution_count": 21,
   "metadata": {},
   "outputs": [],
   "source": [
    "# Optimal Fit: Samples of 6, epsilon value of .4"
   ]
  },
  {
   "cell_type": "code",
   "execution_count": 22,
   "metadata": {},
   "outputs": [
    {
     "data": {
      "text/plain": [
       "Text(0, 0.5, 'Vote Count')"
      ]
     },
     "execution_count": 22,
     "metadata": {},
     "output_type": "execute_result"
    },
    {
     "data": {
      "image/png": "[encoded data removed]",
      "text/plain": [
       "<Figure size 640x480 with 1 Axes>"
      ]
     },
     "metadata": {},
     "output_type": "display_data"
    }
   ],
   "source": [
    "# 2D Plot\n",
    "        \n",
    "two_dplot_dbscan = DBSCAN(eps=.4)\n",
    "movies_lean.cluster = two_dplot_dbscan.fit_predict(movies_lean)\n",
    "two_dplot_km = KMeans(n_clusters=6, random_state=123)\n",
    "\n",
    "plt.scatter(movies_lean['vote_average'],movies_lean['vote_count'], c=movies_lean.cluster, s=5, cmap='Paired')\n",
    "plt.xlabel('Vote Average')\n",
    "plt.ylabel('Vote Count')"
   ]
  },
  {
   "cell_type": "code",
   "execution_count": null,
   "metadata": {},
   "outputs": [],
   "source": [
    "# While these settings were the best option/highest silhouette score for the presented items, it is obvious that the results\n",
    "# generated one large cluster and a set of very small (1 movie) clusters. For future iterations I will improve by training on\n",
    "# other features that may more accurately highlight the diversity of the movies presented. "
   ]
  }
 ],
 "metadata": {
  "kernelspec": {
   "display_name": "Python 3 (ipykernel)",
   "language": "python",
   "name": "python3"
  },
  "language_info": {
   "codemirror_mode": {
    "name": "ipython",
    "version": 3
   },
   "file_extension": ".py",
   "mimetype": "text/x-python",
   "name": "python",
   "nbconvert_exporter": "python",
   "pygments_lexer": "ipython3",
   "version": "3.10.9"
  }
 },
 "nbformat": 4,
 "nbformat_minor": 2
}
