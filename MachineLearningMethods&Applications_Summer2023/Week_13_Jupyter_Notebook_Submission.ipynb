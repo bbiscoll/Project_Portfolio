{
 "cells": [
  {
   "cell_type": "markdown",
   "metadata": {},
   "source": [
    "# NLP\n",
    "Find your favorite news source and grab the article text. \n",
    "\n",
    "1. Show the most common words in the article.\n",
    "2. Show the most common words under a part of speech. (i.e. NOUN: {'Bob':12, 'Alice':4,})\n",
    "3. Find a subject/object relationship through the dependency parser in any sentence.\n",
    "4. Show the most common Entities and their types. \n",
    "5. Find Entites and their dependency (hint: entity.root.head)\n",
    "6. Find the most similar words in the article"
   ]
  },
  {
   "cell_type": "markdown",
   "metadata": {
    "collapsed": true
   },
   "source": [
    "Note: Yes, the notebook from the video is not provided, I leave it to you to make your own :) it's your final assignment for the semester. Enjoy!"
   ]
  },
  {
   "cell_type": "markdown",
   "metadata": {},
   "source": [
    "# Install Packages"
   ]
  },
  {
   "cell_type": "code",
   "execution_count": 1,
   "metadata": {},
   "outputs": [],
   "source": [
    "import spacy\n",
    "processor = spacy.load('en_core_web_sm')"
   ]
  },
  {
   "cell_type": "markdown",
   "metadata": {},
   "source": [
    "Source: Foreign Affairs\n",
    "Article Link: https://www.foreignaffairs.com/russian-federation/vladimir-putin-age-chaos"
   ]
  },
  {
   "cell_type": "code",
   "execution_count": 2,
   "metadata": {},
   "outputs": [],
   "source": [
    "# Importing Article Text \n",
    "text = \"\"\"'\"After Russian President Vladimir Putin launched an invasion of Ukraine in February 2022, Russian elites acted as if the war had not really changed anything on the home front. Even as the campaign foundered and the West tightened sanctions on the Russian economy, those with power in Moscow seemed to carry on as usual. Since last autumn, however, things have been getting a little more complicated. A surprisingly successful Ukrainian counterattack in the region of Kharkiv in September 2022 exposed the vulnerability of Russian military positions. Irked, the Kremlin launched a military mobilization that caused tremendous social anxiety, although only for a short period. Then in October, a Ukrainian strike on the Kerch Strait bridge left the key link between Crimea and mainland Russia engulfed in smoke and flames. It also revealed how flexible the Kremlin’s supposed redlines actually were; an event that had seemed intolerable just months prior ultimately produced no tangible response from the state and left elites with the growing sense that Russia’s war could rebound onto its own territory.\n",
    "\n",
    "The following months have only ratcheted up the pressure. The Ukrainian front has provided little good news for the Kremlin, with the exception of the seizure of the Ukrainian city of Bakhmut in May. And in the meantime, a new front has opened up at home. Unknown assailants—most likely connected to Ukrainian security services—have attacked Moscow with drones. Paramilitaries have raided across the border into the Russian region of Belgorod. And most shocking, the forces of Yevgeny Prigozhin, the leader of the Wagner private military company, carried out an open rebellion in June, seizing much of the city of Rostov-on-Don, sending a column of troops racing toward Moscow, and even shooting down a number of Russian aircraft, killing over a dozen Russian pilots in the process.\n",
    "\n",
    "Prigozhin’s uprising captured the world’s attention—and deeply disturbed Moscow’s elite. Despite its swift resolution (in a deal brokered in part by Belarusian President Alexander Lukashenko), many in Moscow struggle to understand Putin’s handling of the crisis. On the one hand, the Russian president has publicly and ruthlessly condemned Prigozhin as a “traitor,” but on the other hand, he has allowed the mercenary leader to move freely within the country and even hosted him in the Kremlin for negotiations at the end of June.\n",
    "\n",
    "Stay informed.\n",
    "In-depth analysis delivered weekly.\n",
    "These events were unprecedented in contemporary Russia. And yet they do not seem to have ruffled the status quo; people continue their lives as if nothing had happened. To be sure, generals are now daring to complain more openly about the top brass. But the overall situation in the army remains stable, and to date the Russian government and military have not reshuffled or arrested any army personnel.\n",
    "\n",
    "Don’t be fooled: this ostensible resilience to bad news and the seeming indifference to ongoing events are deceptive. It is becoming increasingly difficult for the Kremlin to sweep unwelcome developments under the carpet. The war has begun to change Russia, and profound internal shifts are likely underway—in Putin’s regime, in the elites’ perception of Putin, and in the public’s attitude toward the war. Indeed, the militarization of Russian life is empowering ultranationalist hard-liners in the elite, eclipsing an old guard of ideologues that the Russian public has begun to view as increasingly out of touch with the realities of the war. The perception of Putin’s weakening has further revealed the regime’s deep flaws: the habitual inclination of the authorities to underestimate domestic political risks, ignore long-term developments in favor of addressing immediate challenges, and refuse responsibility for the growing number of incidents on Russian territory linked to the war.\n",
    "\n",
    "Prigozhin’s mutiny has pushed the situation to an extreme and may pave the way for the emergence of a more radicalized, hawkish, and ruthless state. Threats to the Kremlin, such as the Wagner rebellion, and the revelations of the government’s weakness, will not necessarily lead the public to turn against Putin and bring down the regime. Instead, these developments are transforming Russia into a far less cohesive entity, one rife with internal contradictions and conflicts, more volatile and lacking predictability. With so much pressure turning inward, the space for debate about the ongoing war in Ukraine may open somewhat, even if not for outright dissent. But at home, the order that Putin built will become more disorderly, and the world will have to contend with a more dangerous and unpredictable Russia.\n",
    "\n",
    "FRAGILE STATE\n",
    "In the months leading up to Prigozhin’s rebellion, Russia found itself in the unexpected position of watching the war come home. In early May, just days before the annual Victory Day parade in Red Square, unknown attackers used drones to try to hit targets in Moscow, including the Kremlin. Then, at the end of May and into June, paramilitary groups aligned with Ukraine crossed into the Russian region of Belgorod. They caused mayhem and briefly seized various settlements. Other regions neighboring Ukraine have also been enduring continual shelling. The Kremlin’s response to these events has been startlingly passive; it has simply sought to hit the mute button. Television news and talk shows have focused instead on the supposed efficacy of Moscow’s air defenses and advanced a narrative about the supposed ruthlessness of Ukrainians and their Western “masters.” With rare exceptions, Putin has barely commented on these attacks on Russian soil, preferring to delegate that responsibility to the Defense Ministry.\n",
    "\n",
    "The Kremlin’s propensity to downplay seemingly shocking events is in line with how Putin saw the war. He maintained a deep-seated belief that ordinary Russians brim with patriotism, that the elites remain controllable and loyal to the state, that a path to victory in Ukraine is still open, and that Russia’s economy is resilient enough to endure until he achieves his goals. Consequently, senior officials in the presidential administration, taking cues from Putin’s cool demeanor and aversion to panic, often convinced themselves that everything was fine and that their anxiety would be more harmful than prudent. Kremlin insiders, speaking privately about the war’s impact on political stability, bragged about the authorities’ capacity to maintain political control, with one insider offering the cautious caveat that all would be well “if the military does not let us down.” They cited consistently high public support for the “special military operation” in Ukraine and strong approval ratings for both Putin and the government.\n",
    "\n",
    "Prigozhin’s growing discontent preceding the mutiny failed to alarm these insiders. Even as late as June 23, when Prigozhin had already initiated his rebellion, many sources close to the Kremlin continued to believe that nothing of major concern was happening and that Prigozhin was still useful for achieving certain political objectives, such as channeling the frustration of ultranationalists. In addition, many officials were convinced that people close to Putin in the Kremlin were supervising Prigozhin and that Wagner would not try to challenge the Russian state. Then, reports made clear that Wagner forces had seized the military command center for Russian operations in Ukraine in the city of Rostov-on-Don, that a column of Wagner soldiers was advancing on Moscow, and that Wagner forces had even shot down Russian helicopters.\n",
    "\n",
    "\n",
    "Prigozhin leaving Rostov-on-Don, Russia, June 2023\n",
    "Alexander Ermochenko / Reuters\n",
    "These events served as a sobering revelation: Putin had misjudged Prigozhin and his outrage, underestimating the danger posed by the voluble and volatile caterer turned mercenary commander. The rebellion was, in large part, the product of Putin’s inaction. His detached and aloof stance and his reluctance to intervene in the escalating conflict between Prigozhin and the two most senior Russian military officials—Sergey Shoigu, the defense minister, and Valery Gerasimov, the chief of the general staff—helped spark the revolt. The rebellion exposed not only Putin’s management failures, the negligence that embittered and inflamed Prigozhin, but also how the state had shot itself in the foot. After all, Wagner has grown into a fighting force with tens of thousands of soldiers only thanks to billions of dollars in state funding, access to the state’s resources, and its links to high-profile officials who have endorsed the mercenary outfit’s activities.\n",
    "\n",
    "In the wake of the rebellion, it has become much harder for the Kremlin to project an aura of unflappable control and political competence. Just a week after the mutiny, Putin made an unscheduled public appearance in Dagestan. His staff was unprepared for this event and his behavior, including hugging members of the crowd, surprised many in the Kremlin and was seen as evidence that he was acting emotionally and spontaneously, seeking affirmation. In front of the cameras, he held babies, shook hands, and posed for selfies with an adoring public. The scene was striking given that Putin has rarely allowed himself such interactions in the years since the COVID-19 pandemic began. Although Putin may have wanted to demonstrate his closeness with ordinary Russians in the wake of Prigozhin’s mutiny, many observers interpreted the spectacle as a sign of the president’s acute need to experience the adulation of Russian citizens—a measure perhaps of his own sense of vulnerability.\n",
    "\n",
    "The Kremlin’s mishandling of the war, compounded by Prigozhin’s ensuing mutiny, has made the government appear irresponsible and the state weak. Even the drone attacks inspired bewilderment as to why Russian defense systems could not thwart them and stoked a perception among ordinary Russians, as well as those hawks who support the war in Ukraine, of the state’s frailty, its inability to ensure the safety of the capital city (never mind the country at large), and the failure of authorities to stop enemies from infiltrating Russian territory. A cursory look at public discussions on social media reveals speculation among Russians about the potential presence of Ukrainian sympathizers “among us,” ready to “stab us in the back.”\n",
    "\n",
    "SOMETHING ROTTEN\n",
    "Many observers are used to viewing Putin’s regime as the product of a social contract in which the state guarantees stability in return for the people granting the Kremlin significant freedom to manage political life. Since Russia’s annexation of Crimea in 2014, however, the value of domestic stability has been gradually eclipsed by a deeper need for geopolitical security—that is, protection from the hostile West—that has accompanied an upsurge in nationalist sentiment. Now, after the 2022 invasion of Ukraine, Russians hunger for geopolitical security. The people have delegated to Putin the right to deal with the West—which many Russians believe threatens their country’s very existence—even if that causes domestic turmoil owing to stringent sanctions and crackdowns on liberals. Polls show that since the war began, the percentage of Russians who overtly admire Putin has grown from eight to 19 percent, and 68 percent of Russians now say they want him to be reelected, a significant jump from 48 percent of Russians before the war. The war has also increased support for all official institutions: the cabinet, regional governors, parliament, and even the ruling party, United Russia.\n",
    "\n",
    "But Putin’s passivity in the face of internal military threats and his aloof stance may become a major problem for the regime in the near future. There are signs that Russians, despite their increased support for state institutions, are becoming much more ambivalent about the country’s authorities. They are beginning to doubt the ability of the political class to fulfill its responsibilities. At the end of May, a drone attack targeted Rublyovka, a famous upscale Moscow suburb where many wealthy and influential Russians live. Some social media users were not altogether sorry for the attack and suggested that the rich and powerful were getting their just deserts. Rublyovka has long been a symbol of the affluent, parasitic elite associated with both the Yeltsin era and the current regime. Many pro-Kremlin bloggers and ordinary Russians hoped that the attack would serve as a wake-up call to this elite, compelling them to become more involved in helping salvage the war with Ukraine and responding more resolutely to attacks on Russian territory.\n",
    "\n",
    "Anti-elite sentiment also propelled the rise of Prigozhin. He had been gaining visibility and popularity in recent months as his forces operated in Ukraine. According to the Levada Center, an independent Russian polling firm, Russians saw the capture of Bakhmut by Wagner fighters in May as the most important event of that month. A study by another polling group, Romir, found that Wagner’s triumph in Bakhmut had elevated Prigozhin for the first time into the ranks of the top five most-trusted politicians in Russia, after Putin, Foreign Minister Sergey Lavrov, Shoigu, and Prime Minister Mikhail Mishustin. His climb was stratospheric: at the beginning of the year, Prigozhin had ranked 158th among trusted Russian political figures.\n",
    "\n",
    "Ordinary Russians were struck by Prigozhin’s brazen confrontation with the Defense Ministry and his complaints that his troops were desperately short of ammunition. The public perceived him as a crusader against corruption and someone who dared to challenge the spoiled elites. A local eyewitness to Wagner’s seizure of Rostov-on-Don described Prigozhin in a Facebook post as “a simple, ordinary man going to have it out with the fat cats of every stripe and color,” a sentiment that explains the warm welcome Rostov residents gave Wagner fighters. That disgruntlement with the powers that be—“the fat cats”— to some extent explains the ease with which Prigozhin took control of the city. The same eyewitness reported with incredulity that the state was entirely missing in action. “The buildings of the provincial and city administration and the provincial government were completely deserted,” she noted. “In the blink of an eye, the military, with whom the frontline city had been filled, disappeared. The FSB [the Federal Security Services] barricaded itself inside its own building.”\n",
    "\n",
    "It is becoming harder for the Kremlin to sweep bad news under the carpet.\n",
    "Many Western observers have suggested that these military troubles will push the elites and broader society to crave peace. Unfortunately, the reality is much bleaker: challenging situations tend to make Russia only more determined and brutal in waging its war and in quashing dissent at home. Prigozhin’s mutiny was not a rejection of the war but can be understood instead as the result of dissatisfaction with the inefficient prosecution of the war. Reactions to the drone attacks and incursions by paramilitaries into the Belgorod region in the spring are instructive. According to Levada polling, these events only fueled support for the war among Russians, with people becoming more hostile toward ordinary Ukrainians and anxious about the fate of the “special military operation.” The attacks did not in any way increase public desire for peace talks or a Russian withdrawal from Ukraine, a country that is perceived now more than ever as a threat to Russia’s existence. According to polling by Levada, Russians have started to conclude in recent months that the war will be long and drawn out. In May, 45 percent of respondents said they believed the war would last more than another year—the highest percentage since the conflict began (in May 2022, it was 21 percent). They are adapting to that reality and steeling themselves for tough times ahead; they are not seeking to halt the war, and antiwar sentiment remains at best subdued, at worst entirely suppressed.\n",
    "\n",
    "If anything, the country is becoming more committed to the fight—not in pursuit of imperial ambitions but out of a more desperate concern for its very survival. The faction advocating for a “resolute response” to the enemy is gaining new supporters, according to an op-ed in Russian Forbes by Denis Volkov, Levada’s director, interpreting the results of recent polls. In the wake of Prigozhin’s uprising, many Russians want to see the state be bolder, more decisive, consistent, and firm. This is backed up by the latest Levada polls, conducted at the end of June, which revealed a shift in people’s attitudes: the mutiny had led to a slight decline in confidence in Shoigu and a significant decline in confidence in Prigozhin. In other words, the mercenary commander’s revolt has not inspired Russians against a struggling state but rather frightened them with the prospect of destabilization and disorder.\n",
    "\n",
    "The mutiny and the events that preceded it suggest that the regime may be much less resilient than it appears: a frazzled Kremlin; a detached Putin who is failing to deal with internal conflicts; a frustrated society that is perplexed by the state’s lethargic reaction to previously unimaginable events; trembling elites ready to fly away the second the regime crumbles (the Kremlin is now trying to investigate who among officials and the top managers of state corporations dared leave Moscow during Prigozhin’s mutiny and why); and the shell-shocked military and security services that, following the mutiny, will certainly try to patch up their vulnerabilities and quash growing internal dissent in their ranks.\n",
    "\n",
    "Putin, lulled into complacency by his conviction that people love him and the elites are loyal to him, may do little to arrest this decay. At the same time, the security services may seek more control and clamp down on society. Together, these dynamics may lead to incoherence in government behavior, further complicating the situation. Instead of dislodging the regime, Prigozhin’s jolt to the Kremlin will make the government not only more repressive and more brutal but also more chaotic and unpredictable.\n",
    "\n",
    "THE HARDENING LINE\n",
    "This situation plays squarely into the hands of Russia’s hard-liners, a camp that consists of the security service, hawkish conservatives, pro-war military correspondents, and radically anti-Western TV pundits. They advocate for tightening the screws, hunting for traitors, and placing the country on a war footing to accumulate all the resources necessary to win. The current political and social conditions leave virtually no alternative for the regime other than to become less tolerant of even minor suspicious activities, such as any suggestion of the need to reconcile with the Ukrainians, never mind overt opposition to the war. A significant portion of Russian society may end up supporting and even aiding a new crackdown. The public mood has become less indulgent of those privileged Russians who try to maintain a distance from the war, continue leading luxurious lifestyles, and conduct business as usual. It is becoming harder in Russia to maintain a passive or distant position on the war; everywhere, Russians feel pressured to perform their patriotism conspicuously.\n",
    "\n",
    "Since the invasion, the Russian state has marginalized antiwar forces and left no room for liberal-minded figures by cracking down on protests (which were not massive to begin with) and enacting a raft of bills de facto outlawing antiwar and antiregime activities. That repression and that stiffening of patriotic feeling has opened a larger space for far more active, hardcore, and daring hawks to gain ground in politics and the national conversation. A younger and bolder cohort of hawks may supplant a more traditional older generation of conservative ideologues, including the likes of Alexander Bastrykin, the head of the Investigative Committee, Sergei Narysh­kin, the chief of the Foreign Intelligence Service, and Nikolai Patrushev, the secretary of Russia’s Security Council, as well as figures such as Dmitry Medvedev, the former Russian president and now deputy head of the Security Council, and Vyacheslav Volodin, the chair of the State Duma. These ideologues helped foster and promote “Putinism,” the president’s brand of nationalist, anti-Western, antiliberal ideas with an emphasis on traditional values such as the importance of family, children, spiritual bonds, and the primacy of state interests over private rights. These men also contributed to the climate that precipitated Putin’s invasion of Ukraine. But the ongoing war has stripped them of their political uniqueness, turning the entire political mainstream conservative and hard-line.\n",
    "\n",
    "Worse, the old guard now has little to say about wartime realities, with great uncertainty about the course of the war, enormous Western military aid to Kyiv, the absolute lack of any decent exit strategy, and a dismal future looming for the country. Leaders such as Medvedev and Patrushev, who have long promoted the confrontational, anti-Western policy and rhetoric of Putin’s regime, now appear to many jingoistic hawks to be removed from reality—both physically and intellectually far from the nitty-gritty of the war—even as they remain high-profile figures close to the president.\n",
    "\n",
    "As their star wanes, a new generation of hawks is rising. Some of these new hawks are yesterday’s young technocrats, such as Putin’s chief domestic policy adviser, Sergei Kiriyenko, who is now in charge of the four Ukrainian regions that Moscow announced it was annexing last fall, or Marat Khusnullin, the deputy prime minister tasked with overseeing the reconstruction of destroyed Ukrainian territories now under Russian control. These officials spend a lot of time in the occupied areas, regardless of the personal risks, thereby demonstrating their courage and diligence in action to Putin and the elites in general. The new hawks also include practitioners involved in military affairs, who are closely observing the course of the war and have become for many Russians key sources of information about its developments. By contrast, officials such as Patrushev drone on endlessly about an “Anglo-Saxon” conspiracy to seize Russian territory and spout far-fetched theories (including the bizarre notion that U.S. officials want to settle Americans in Russia and Ukraine in the event of the catastrophic eruption of a volcano at Yellowstone National Park).\n",
    "\n",
    "\n",
    "Checking debris after a reported Ukrainian drone attack in Moscow, August 2023\n",
    "Evgenia Novozhenina\n",
    "Some senior members of the establishment have benefited from the hawkish turn, however—notably Shoigu, the defense minister, and Viktor Zolotov, the head of the Rosgvardia domestic military force. They may become the main beneficiaries of Prigozhin’s suppressed insurgency: Zolotov can now more easily beef up the ranks of Rosgvardia to deal with events like Prigozhin’s mutiny, and Shoigu can use the rebellion as an occasion to settle scores with internal opponents in the army. Unlike the desk-jockey ideologues, these leaders can directly access administrative resources and forces to alter facts on the ground and show true power. To put it simply, Medvedev can write another rant on the social media app Telegram, and Patrushev can give his one-hundredth interview raging about the evil Americans, but Shoigu and Zolotov can deploy real physical force to deal with challenges and demonstrate to Putin their indispensability (even if Shoigu, as defense minister, remains responsible for so many of the last year’s military setbacks).\n",
    "\n",
    "The clash of hawks, old and new, will shape Russia’s response to its struggles in Ukraine and at home. The more challenges the regime faces, the more quickly it will evolve into something darker. The Russian public is growing more desperate, anti-Western, and anti-Ukrainian, and Russian elites are becoming increasingly anxious and fractious. Most senior officials, businessmen, and politicians had hoped to simply wait out the war, but now they find themselves hostage to Putin’s ambitions. More overtly hawkish and powerful groups such as the military command or the so-called Chekists in the national security establishment will try to secure order, especially after Prigozhin’s mutiny, to boost the regime’s capacity to endure the war, avoid defeat, and avert even the most tentative attempt to organize another mutiny in the future. All these moves will occur against the backdrop of Putin’s weakening leadership, a factor that will contribute to the regime becoming more chaotic, indiscriminate, and internally rancorous and competitive.\n",
    "\n",
    "In truth, Putin and those old ideologues close to him, such as Patrushev, are becoming in some senses obsolete, their ideas out of step with elite sentiment regarding Ukraine and the West. Regardless of how conservative and hawkish the elites become, they remain more pragmatic than Putin. They are less obsessed with the notion of “saving” Ukrainians, and unlike Putin, they do not presume that Kyiv will inevitably fail. They also have a more accurate understanding of Russia’s capacity to wage war. And many find Putin’s tendency to ignore alarm bells incomprehensible. That is why many pro-war activists are calling for radical reforms to establish what would effectively be a military dictatorship. That is why even Prigozhin managed to win significant visibility and attention. He advocated alternative war strategies and argued for the necessity of using all conceivable financial, economic, and social resources to bolster military power. No one is seriously considering or discussing a diplomatic end to the war: a notion that looks to many high-profile Russians like a personal threat, given all the war crimes that their country has committed and the responsibility that the entire elite now bears for the carnage in Ukraine.\n",
    "\n",
    "GOING OFF SCRIPT\n",
    "The system has started to learn to operate independently of Putin. This development does not yet reflect the solidifying of anti-Putin sentiment or emerging political opposition. It reflects a realization of the inadequacies of the president’s detached managerial style that allowed genuine threats to the regime to go neglected. By completely underestimating Prigozhin’s radicalization and Wagner’s escalating conflict with the military, Putin has come across as an aging leader who is beginning to falter in ways he would never have before. Even the miscalculations that led to the decision to move against Ukraine were not perceived as harshly as the utter loss of control that enabled Prigozhin’s uprising, the largest domestic conflict between state and private armed forces. Putin appears less powerful after conspicuously dropping charges against Prigozhin, not demanding justice for the killings of pilots during the mutiny, and allowing enormous budget expenditures to go to a private military company that eventually dares to attack the state.\n",
    "\n",
    "Other factions are already moving into the space opened by Putin’s weakness. Putin could become a tool in the hands of new, more dynamic and pragmatic hawks, who are quickly learning how to use the president’s emotions and well-known beliefs to their advantage. The presidential administration has become adept at not simply pandering to Putin but actively limiting what he knows by feeding him flattering reports on the patriotism of the populace, innumerable documents on the decline of the West, and tales of Ukrainians longing for liberation. They depict a world eagerly waiting for Russia to upend the existing international order. A few years ago, Putin’s staff mainly sought to avoid incurring the president’s irritation, typically when he received unwelcome news. Now, they are honing their skills in shaping Putin’s moods, either by directing his anger toward their opponents or by encouraging his optimism when it benefits them. Maintaining extreme anti-Western and anti-Ukrainian views may help the new hawks achieve their political goals, and the concurrent radicalization of the regime could lead authorities to become much harsher toward their domestic foes. But a government that lacks firm political leadership, strategic vision, and coherence will be less capable of strategic thinking and agreeing on long-term priorities. Factions in government will focus primarily on outmaneuvering one another and advancing their narrow interests.\n",
    "\n",
    "Contrary to what analysts might have anticipated would follow Prigozhin’s uprising—attempts by the Kremlin to consolidate its power, dismantle private militias, and integrate Russia’s panoply of armed groups into something more coordinated and coherent—the exact opposite may occur. Dmitry Mironov, Putin’s influential aide and former bodyguard, proposed in June formalizing units of soldiers from the martial subculture known as the Cossacks, a move that may irritate Shoigu and a Defense Ministry already wary of the proliferation of autonomous militarized groups. The Kremlin has also discussed separating the border forces from the FSB; the Rosgvardia seeks to acquire heavy weaponry and additional forces from the interior ministry; and purges in the army coupled with possible military setbacks on the Ukrainian front may ignite localized protests against the army’s command. It was widely expected that Wagner would be dismantled after its uprising; instead, it seems Putin will allow the mercenary outfit to carry on under Prigozhin’s successor, Andrei Troshev. In other words, rather than concentration, the security forces may see further fragmentation, with rival factions vying for new prerogatives and powers.\n",
    "\n",
    "At the same time, however, the political class is shifting its attention inward to address the country’s own flaws and failures that Prigozhin’s revolt exposed rather than focusing on Putin’s historic mission of liberating Ukrainians. The more the war becomes a quagmire, the more deputies, pundits, senators, and popular bloggers seek to highlight and address domestic problems that they blame for making Russia less effective in conducting the war. This inward turn could lead to a more pragmatic approach to the war against Ukraine even as it could make the state far more ruthless toward its own citizens.\n",
    "\n",
    "The war has left Russia grasping for certainties in an exceedingly uncertain world.\n",
    "Ordinary Russians still seem to support the war and back Putin, but they are also becoming frustrated, gradually showing impatience with elites, and feeling increasingly vulnerable because of the clumsy actions (and inaction) of the authorities. Putin may enjoy high approval ratings, but they will mask growing uncertainty, social anxiety, and (as yet) unchanneled discontent about the course of the events. True sources of political risk for the regime may appear in the form of figures who back Putin and are generally loyal to the authorities (as Prigozhin was) but who, over time, could come to pose significant problems.\n",
    "\n",
    "For the foreseeable future, the Kremlin will be wrestling simultaneously with diverging internal forces: a deepening crisis of Putin’s leadership, a growing lack of political accountability, increasingly ineffective responses by the authorities to new challenges, an intensifying fragmentation among elites, and a society that is growing more antiestablishment.\n",
    "\n",
    "If previously, domestic affairs were secondary to the dominant military agenda, the reverse may come true. The war could become a backdrop to more urgent domestic challenges. At home, Russia’s future appears bleak, marked by ever-greater fractiousness among elites, Putin’s shrinking influence, and a more ideological and stricter regime in which security services play a more prominent role. These changes will make Russia’s geopolitical actions less predictable, and even contradictory, as the Kremlin reacts to shifting circumstances instead of following its own strategic direction and priorities. Putin saw the invasion of Ukraine as an act of destiny, the fulfillment of a historical script. Instead, the war has left Russia grasping for certainties in an exceedingly uncertain world.\"\"\"\"\""
   ]
  },
  {
   "cell_type": "code",
   "execution_count": 3,
   "metadata": {},
   "outputs": [],
   "source": [
    "article_text = processor(text)"
   ]
  },
  {
   "cell_type": "markdown",
   "metadata": {},
   "source": [
    "1. Show the most common words in the article."
   ]
  },
  {
   "cell_type": "code",
   "execution_count": 4,
   "metadata": {},
   "outputs": [],
   "source": [
    "# Importing Additional Libraries\n",
    "from collections import Counter\n",
    "import pandas as pd\n",
    "import numpy as np\n",
    "import string"
   ]
  },
  {
   "cell_type": "code",
   "execution_count": 5,
   "metadata": {},
   "outputs": [],
   "source": [
    "# Define stop words, punctuation\n",
    "stop_words = set(processor.Defaults.stop_words)\n",
    "punctuation = set(string.punctuation)"
   ]
  },
  {
   "cell_type": "code",
   "execution_count": 6,
   "metadata": {},
   "outputs": [],
   "source": [
    "# Create a counting function (with exceptions for stop words, punctuation)\n",
    "counts = Counter(token.text for token in article_text if not token.is_stop and not token.text in punctuation and not token.is_space)"
   ]
  },
  {
   "cell_type": "code",
   "execution_count": 7,
   "metadata": {},
   "outputs": [],
   "source": [
    "# Convert Dictionary to Dataframe\n",
    "word_counts = pd.DataFrame.from_dict(counts, orient='index', columns=['Frequency'])\n",
    "word_counts = word_counts.sort_values(by='Frequency', ascending=False)\n",
    "word_counts.reset_index(inplace=True)\n",
    "word_counts.rename(columns={'index': 'Word'}, inplace=True)"
   ]
  },
  {
   "cell_type": "code",
   "execution_count": 8,
   "metadata": {
    "scrolled": true
   },
   "outputs": [
    {
     "data": {
      "text/html": [
       "<div>\n",
       "<style scoped>\n",
       "    .dataframe tbody tr th:only-of-type {\n",
       "        vertical-align: middle;\n",
       "    }\n",
       "\n",
       "    .dataframe tbody tr th {\n",
       "        vertical-align: top;\n",
       "    }\n",
       "\n",
       "    .dataframe thead th {\n",
       "        text-align: right;\n",
       "    }\n",
       "</style>\n",
       "<table border=\"1\" class=\"dataframe\">\n",
       "  <thead>\n",
       "    <tr style=\"text-align: right;\">\n",
       "      <th></th>\n",
       "      <th>Word</th>\n",
       "      <th>Frequency</th>\n",
       "    </tr>\n",
       "  </thead>\n",
       "  <tbody>\n",
       "    <tr>\n",
       "      <th>0</th>\n",
       "      <td>Putin</td>\n",
       "      <td>54</td>\n",
       "    </tr>\n",
       "    <tr>\n",
       "      <th>1</th>\n",
       "      <td>war</td>\n",
       "      <td>46</td>\n",
       "    </tr>\n",
       "    <tr>\n",
       "      <th>2</th>\n",
       "      <td>Prigozhin</td>\n",
       "      <td>37</td>\n",
       "    </tr>\n",
       "    <tr>\n",
       "      <th>3</th>\n",
       "      <td>Russian</td>\n",
       "      <td>33</td>\n",
       "    </tr>\n",
       "    <tr>\n",
       "      <th>4</th>\n",
       "      <td>Russia</td>\n",
       "      <td>27</td>\n",
       "    </tr>\n",
       "    <tr>\n",
       "      <th>5</th>\n",
       "      <td>military</td>\n",
       "      <td>25</td>\n",
       "    </tr>\n",
       "    <tr>\n",
       "      <th>6</th>\n",
       "      <td>Kremlin</td>\n",
       "      <td>25</td>\n",
       "    </tr>\n",
       "    <tr>\n",
       "      <th>7</th>\n",
       "      <td>Russians</td>\n",
       "      <td>23</td>\n",
       "    </tr>\n",
       "    <tr>\n",
       "      <th>8</th>\n",
       "      <td>state</td>\n",
       "      <td>21</td>\n",
       "    </tr>\n",
       "    <tr>\n",
       "      <th>9</th>\n",
       "      <td>Ukraine</td>\n",
       "      <td>20</td>\n",
       "    </tr>\n",
       "    <tr>\n",
       "      <th>10</th>\n",
       "      <td>—</td>\n",
       "      <td>19</td>\n",
       "    </tr>\n",
       "    <tr>\n",
       "      <th>11</th>\n",
       "      <td>regime</td>\n",
       "      <td>18</td>\n",
       "    </tr>\n",
       "    <tr>\n",
       "      <th>12</th>\n",
       "      <td>political</td>\n",
       "      <td>17</td>\n",
       "    </tr>\n",
       "    <tr>\n",
       "      <th>13</th>\n",
       "      <td>”</td>\n",
       "      <td>15</td>\n",
       "    </tr>\n",
       "    <tr>\n",
       "      <th>14</th>\n",
       "      <td>“</td>\n",
       "      <td>14</td>\n",
       "    </tr>\n",
       "    <tr>\n",
       "      <th>15</th>\n",
       "      <td>mutiny</td>\n",
       "      <td>14</td>\n",
       "    </tr>\n",
       "    <tr>\n",
       "      <th>16</th>\n",
       "      <td>elites</td>\n",
       "      <td>14</td>\n",
       "    </tr>\n",
       "    <tr>\n",
       "      <th>17</th>\n",
       "      <td>Wagner</td>\n",
       "      <td>13</td>\n",
       "    </tr>\n",
       "    <tr>\n",
       "      <th>18</th>\n",
       "      <td>Moscow</td>\n",
       "      <td>12</td>\n",
       "    </tr>\n",
       "    <tr>\n",
       "      <th>19</th>\n",
       "      <td>Ukrainian</td>\n",
       "      <td>12</td>\n",
       "    </tr>\n",
       "  </tbody>\n",
       "</table>\n",
       "</div>"
      ],
      "text/plain": [
       "         Word  Frequency\n",
       "0       Putin         54\n",
       "1         war         46\n",
       "2   Prigozhin         37\n",
       "3     Russian         33\n",
       "4      Russia         27\n",
       "5    military         25\n",
       "6     Kremlin         25\n",
       "7    Russians         23\n",
       "8       state         21\n",
       "9     Ukraine         20\n",
       "10          —         19\n",
       "11     regime         18\n",
       "12  political         17\n",
       "13          ”         15\n",
       "14          “         14\n",
       "15     mutiny         14\n",
       "16     elites         14\n",
       "17     Wagner         13\n",
       "18     Moscow         12\n",
       "19  Ukrainian         12"
      ]
     },
     "execution_count": 8,
     "metadata": {},
     "output_type": "execute_result"
    }
   ],
   "source": [
    "# Show Word Counts\n",
    "word_counts.iloc[0:20]"
   ]
  },
  {
   "cell_type": "markdown",
   "metadata": {},
   "source": [
    "The most common words are 'Putin', 'war', 'Prigozhin', 'Russian'/'Russia' and 'military'."
   ]
  },
  {
   "cell_type": "markdown",
   "metadata": {},
   "source": [
    "2. Show the most common words under a part of speech. (i.e. NOUN: {'Bob':12, 'Alice':4,})"
   ]
  },
  {
   "cell_type": "code",
   "execution_count": 9,
   "metadata": {},
   "outputs": [],
   "source": [
    "# Create Counter For Parts of Speech \n",
    "parts_of_speech_counts = Counter((token.text, token.pos_) for token in article_text if not token.is_stop and not token.text in punctuation and not token.is_space)"
   ]
  },
  {
   "cell_type": "code",
   "execution_count": 10,
   "metadata": {},
   "outputs": [
    {
     "data": {
      "text/plain": [
       "{'ADJ',\n",
       " 'ADP',\n",
       " 'ADV',\n",
       " 'AUX',\n",
       " 'CCONJ',\n",
       " 'DET',\n",
       " 'NOUN',\n",
       " 'NUM',\n",
       " 'PART',\n",
       " 'PRON',\n",
       " 'PROPN',\n",
       " 'PUNCT',\n",
       " 'SCONJ',\n",
       " 'SPACE',\n",
       " 'SYM',\n",
       " 'VERB',\n",
       " 'X'}"
      ]
     },
     "execution_count": 10,
     "metadata": {},
     "output_type": "execute_result"
    }
   ],
   "source": [
    "part_of_speech_tags = {token.pos_ for token in article_text}\n",
    "part_of_speech_tags"
   ]
  },
  {
   "cell_type": "code",
   "execution_count": 11,
   "metadata": {},
   "outputs": [
    {
     "name": "stdout",
     "output_type": "stream",
     "text": [
      "ADV Counter({'more': 34, 'even': 14, 'now': 12, 'also': 11, 'less': 9, 'only': 7, 'most': 6, 'as': 6, 'increasingly': 5, 'far': 5, 'Even': 4, 'however': 4, 'simply': 4, 'instead': 4, 'well': 4, 'much': 4, 'Then': 3, 'yet': 3, 'Instead': 3, 'so': 3, 'inward': 3, 'still': 3, 'already': 3, 'never': 3, 'long': 3, 'rather': 3, 'just': 2, 'likely': 2, 'further': 2, 'gradually': 2, 'Now': 2, 'overtly': 2, 'entirely': 2, 'completely': 2, 'harder': 2, 'ever': 2, 'previously': 2, 'conspicuously': 2, 'quickly': 2, 'exceedingly': 2, 'really': 1, 'surprisingly': 1, 'actually': 1, 'prior': 1, 'ultimately': 1, 'deeply': 1, 'publicly': 1, 'ruthlessly': 1, 'freely': 1, 'weekly': 1, 'openly': 1, 'Indeed': 1, 'necessarily': 1, 'somewhat': 1, 'home': 1, 'briefly': 1, 'startlingly': 1, 'barely': 1, 'seemingly': 1, 'enough': 1, 'Consequently': 1, 'often': 1, 'privately': 1, 'consistently': 1, 'After': 1, 'all': 1, 'Just': 1, 'emotionally': 1, 'spontaneously': 1, 'rarely': 1, 'perhaps': 1, 'altogether': 1, 'resolutely': 1, 'desperately': 1, 'Unfortunately': 1, 'ahead': 1, 'best': 1, 'at': 1, 'worst': 1, 'away': 1, 'certainly': 1, 'Together': 1, 'squarely': 1, 'radically': 1, 'virtually': 1, 'everywhere': 1, 'physically': 1, 'intellectually': 1, 'regardless': 1, 'thereby': 1, 'closely': 1, 'on': 1, 'endlessly': 1, 'notably': 1, 'easily': 1, 'directly': 1, 'More': 1, 'especially': 1, 'internally': 1, 'Regardless': 1, 'inevitably': 1, 'effectively': 1, 'seriously': 1, 'independently': 1, 'before': 1, 'harshly': 1, 'eventually': 1, 'actively': 1, 'eagerly': 1, 'ago': 1, 'mainly': 1, 'typically': 1, 'primarily': 1, 'widely': 1, 'generally': 1, 'simultaneously': 1})\n",
      "\n",
      "PART Counter({'to': 95, '’s': 84, 'not': 22, 'To': 2, '’': 2, 'n’t': 1})\n",
      "\n",
      "NUM Counter({'one': 5, '2022': 4, '2023': 2, '23': 1, 'two': 1, '2014': 1, 'eight': 1, '19': 1, '68': 1, '48': 1, 'five': 1, '45': 1, '21': 1, 'four': 1})\n",
      "\n",
      "SPACE Counter({'\\n\\n': 31, '\\n': 12, '\\n\\n\\n': 2})\n",
      "\n",
      "PUNCT Counter({',': 296, '.': 181, '-': 31, '—': 19, '”': 15, '“': 14, ';': 12, ':': 11, '(': 10, ')': 10, \"'\": 1, '\"': 1, '[': 1, ']': 1})\n",
      "\n",
      "ADP Counter({'of': 164, 'in': 98, 'to': 64, 'for': 44, 'with': 42, 'as': 33, 'on': 32, 'by': 21, 'from': 14, 'about': 14, 'at': 13, 'into': 12, 'In': 12, 'up': 8, 'against': 8, 'among': 8, 'out': 7, 'toward': 6, 'down': 6, 'than': 6, 'after': 6, 'under': 4, 'At': 4, 'between': 3, 'over': 3, 'across': 2, 'before': 2, 'during': 2, 'By': 2, 'like': 2, 'onto': 1, 'On': 1, 'within': 1, 'With': 1, 'inside': 1, 'As': 1, 'Unlike': 1, 'unlike': 1, 'OFF': 1, 'For': 1})\n",
      "\n",
      "CCONJ Counter({'and': 173, 'but': 12, 'or': 8, 'But': 5, 'And': 4, 'both': 2, 'either': 1})\n",
      "\n",
      "X Counter({'de': 1, 'facto': 1})\n",
      "\n",
      "SCONJ Counter({'that': 34, 'as': 8, 'if': 6, 'how': 5, 'for': 4, 'why': 4, 'Since': 3, 'when': 3, 'since': 3, 'If': 2, 'than': 2, 'After': 1, 'although': 1, 'Despite': 1, 'With': 1, 'until': 1, 'Although': 1, 'despite': 1, 'where': 1, 'after': 1, 'because': 1})\n",
      "\n",
      "VERB Counter({'become': 13, 'becoming': 10, 'growing': 8, 'left': 5, 'try': 5, 'lead': 4, 'have': 4, 'come': 4, 'including': 4, 'deal': 4, 'make': 4, 'exposed': 3, 'revealed': 3, 'supposed': 3, 'following': 3, 'opened': 3, 'allowed': 3, 'remains': 3, 'saw': 3, 'remain': 3, 'maintain': 3, 'made': 3, 'began': 3, 'appear': 3, 'want': 3, 'According': 3, 'perceived': 3, 'appears': 3, 'launched': 2, 'seemed': 2, 'carry': 2, 'getting': 2, 'caused': 2, 'move': 2, 'seem': 2, 'continue': 2, 'daring': 2, 'sweep': 2, 'begun': 2, 'ignore': 2, 'turning': 2, 'leading': 2, 'found': 2, 'used': 2, 'hit': 2, 'seized': 2, 'sought': 2, 'endure': 2, 'convinced': 2, 'believe': 2, 'challenge': 2, 'advancing': 2, 'shot': 2, 'underestimating': 2, 'posed': 2, 'escalating': 2, 'helped': 2, 'grown': 2, 'seeking': 2, 'given': 2, 'demonstrate': 2, 'inspired': 2, 'support': 2, 'show': 2, 'say': 2, 'increased': 2, 'beginning': 2, 'suggested': 2, 'hoped': 2, 'gaining': 2, 'trusted': 2, 'dared': 2, 'explains': 2, 'reported': 2, 'started': 2, 'see': 2, 'led': 2, 'detached': 2, 'leave': 2, 'seek': 2, 'win': 2, 'settle': 2, 'use': 2, 'find': 2, 'avoid': 2, 'occur': 2, 'go': 2, 'known': 2, 'shifting': 2, 'address': 2, 'grasping': 2, 'acted': 1, 'changed': 1, 'foundered': 1, 'tightened': 1, 'Irked': 1, 'engulfed': 1, 'produced': 1, 'rebound': 1, 'ratcheted': 1, 'provided': 1, 'connected': 1, 'attacked': 1, 'raided': 1, 'carried': 1, 'seizing': 1, 'sending': 1, 'racing': 1, 'shooting': 1, 'killing': 1, 'captured': 1, 'disturbed': 1, 'brokered': 1, 'struggle': 1, 'understand': 1, 'condemned': 1, 'hosted': 1, 'Stay': 1, 'delivered': 1, 'ruffled': 1, 'happened': 1, 'complain': 1, 'date': 1, 'reshuffled': 1, 'arrested': 1, 'fooled': 1, 'change': 1, 'empowering': 1, 'eclipsing': 1, 'view': 1, 'underestimate': 1, 'addressing': 1, 'refuse': 1, 'linked': 1, 'pushed': 1, 'pave': 1, 'radicalized': 1, 'turn': 1, 'bring': 1, 'transforming': 1, 'open': 1, 'built': 1, 'contend': 1, 'watching': 1, 'aligned': 1, 'crossed': 1, 'neighboring': 1, 'enduring': 1, 'focused': 1, 'advanced': 1, 'commented': 1, 'preferring': 1, 'delegate': 1, 'downplay': 1, 'maintained': 1, 'seated': 1, 'brim': 1, 'achieves': 1, 'taking': 1, 'panic': 1, 'speaking': 1, 'bragged': 1, 'offering': 1, 'let': 1, 'cited': 1, 'preceding': 1, 'failed': 1, 'alarm': 1, 'initiated': 1, 'continued': 1, 'happening': 1, 'achieving': 1, 'channeling': 1, 'supervising': 1, 'leaving': 1, 'served': 1, 'misjudged': 1, 'turned': 1, 'intervene': 1, 'spark': 1, 'embittered': 1, 'inflamed': 1, 'fighting': 1, 'endorsed': 1, 'project': 1, 'hugging': 1, 'surprised': 1, 'seen': 1, 'acting': 1, 'held': 1, 'shook': 1, 'striking': 1, 'wanted': 1, 'interpreted': 1, 'experience': 1, 'compounded': 1, 'ensuing': 1, 'thwart': 1, 'stoked': 1, 'ensure': 1, 'mind': 1, 'stop': 1, 'infiltrating': 1, 'reveals': 1, 'stab': 1, 'viewing': 1, 'guarantees': 1, 'granting': 1, 'manage': 1, 'eclipsed': 1, 'accompanied': 1, 'delegated': 1, 'threatens': 1, 'causes': 1, 'owing': 1, 'admire': 1, 'reelected': 1, 'ruling': 1, 'are': 1, 'doubt': 1, 'fulfill': 1, 'targeted': 1, 'live': 1, 'associated': 1, 'serve': 1, 'wake': 1, 'compelling': 1, 'helping': 1, 'responding': 1, 'propelled': 1, 'operated': 1, 'elevated': 1, 'ranked': 1, 'struck': 1, 'described': 1, 'going': 1, 'gave': 1, 'took': 1, 'missing': 1, 'noted': 1, 'filled': 1, 'disappeared': 1, 'barricaded': 1, 'push': 1, 'crave': 1, 'tend': 1, 'waging': 1, 'quashing': 1, 'understood': 1, 'fueled': 1, 'increase': 1, 'conclude': 1, 'drawn': 1, 'said': 1, 'believed': 1, 'last': 1, 'adapting': 1, 'steeling': 1, 'halt': 1, 'subdued': 1, 'suppressed': 1, 'advocating': 1, 'according': 1, 'interpreting': 1, 'backed': 1, 'conducted': 1, 'struggling': 1, 'frightened': 1, 'preceded': 1, 'suggest': 1, 'frazzled': 1, 'failing': 1, 'perplexed': 1, 'trembling': 1, 'fly': 1, 'crumbles': 1, 'trying': 1, 'investigate': 1, 'shocked': 1, 'patch': 1, 'lulled': 1, 'love': 1, 'do': 1, 'arrest': 1, 'clamp': 1, 'complicating': 1, 'dislodging': 1, 'plays': 1, 'consists': 1, 'advocate': 1, 'tightening': 1, 'hunting': 1, 'placing': 1, 'footing': 1, 'accumulate': 1, 'reconcile': 1, 'overt': 1, 'end': 1, 'supporting': 1, 'aiding': 1, 'conduct': 1, 'feel': 1, 'perform': 1, 'marginalized': 1, 'cracking': 1, 'begin': 1, 'enacting': 1, 'outlawing': 1, 'gain': 1, 'bolder': 1, 'supplant': 1, 'foster': 1, 'promote': 1, 'contributed': 1, 'precipitated': 1, 'stripped': 1, 'has': 1, 'looming': 1, 'promoted': 1, 'removed': 1, 'rising': 1, 'announced': 1, 'annexing': 1, 'tasked': 1, 'overseeing': 1, 'destroyed': 1, 'spend': 1, 'occupied': 1, 'demonstrating': 1, 'include': 1, 'involved': 1, 'observing': 1, 'drone': 1, 'seize': 1, 'spout': 1, 'Checking': 1, 'benefited': 1, 'beef': 1, 'access': 1, 'alter': 1, 'put': 1, 'write': 1, 'give': 1, 'raging': 1, 'deploy': 1, 'shape': 1, 'challenges': 1, 'faces': 1, 'evolve': 1, 'wait': 1, 'hostage': 1, 'called': 1, 'secure': 1, 'boost': 1, 'avert': 1, 'organize': 1, 'contribute': 1, 'regarding': 1, 'hawkish': 1, 'saving': 1, 'presume': 1, 'fail': 1, 'wage': 1, 'incomprehensible': 1, 'calling': 1, 'establish': 1, 'managed': 1, 'advocated': 1, 'argued': 1, 'using': 1, 'bolster': 1, 'considering': 1, 'discussing': 1, 'looks': 1, 'committed': 1, 'bears': 1, 'GOING': 1, 'learn': 1, 'operate': 1, 'reflect': 1, 'emerging': 1, 'reflects': 1, 'neglected': 1, 'aging': 1, 'falter': 1, 'enabled': 1, 'dropping': 1, 'demanding': 1, 'allowing': 1, 'dares': 1, 'attack': 1, 'moving': 1, 'learning': 1, 'pandering': 1, 'limiting': 1, 'knows': 1, 'feeding': 1, 'longing': 1, 'depict': 1, 'waiting': 1, 'upend': 1, 'existing': 1, 'incurring': 1, 'received': 1, 'honing': 1, 'shaping': 1, 'directing': 1, 'encouraging': 1, 'benefits': 1, 'Maintaining': 1, 'help': 1, 'achieve': 1, 'lacks': 1, 'agreeing': 1, 'focus': 1, 'outmaneuvering': 1, 'anticipated': 1, 'follow': 1, 'consolidate': 1, 'dismantle': 1, 'integrate': 1, 'proposed': 1, 'formalizing': 1, 'irritate': 1, 'discussed': 1, 'separating': 1, 'seeks': 1, 'acquire': 1, 'coupled': 1, 'ignite': 1, 'localized': 1, 'expected': 1, 'dismantled': 1, 'seems': 1, 'allow': 1, 'vying': 1, 'focusing': 1, 'becomes': 1, 'highlight': 1, 'blame': 1, 'making': 1, 'conducting': 1, 'frustrated': 1, 'showing': 1, 'feeling': 1, 'enjoy': 1, 'mask': 1, 'back': 1, 'pose': 1, 'wrestling': 1, 'diverging': 1, 'deepening': 1, 'intensifying': 1, 'marked': 1, 'shrinking': 1, 'play': 1, 'reacts': 1})\n",
      "\n",
      "SYM Counter({'/': 1})\n",
      "\n",
      "ADJ Counter({'Russian': 33, 'military': 20, 'political': 17, 'many': 14, 'Ukrainian': 12, '-': 12, 'new': 11, 'such': 11, 'domestic': 10, 'social': 8, 'Western': 8, 'anti': 8, 'internal': 7, 'own': 6, 'ordinary': 6, 'significant': 6, 'more': 6, 'private': 5, 'mercenary': 5, 'high': 5, 'public': 5, 'little': 4, 'other': 4, 'old': 4, 'hawkish': 4, 'senior': 4, 'close': 4, 'last': 3, 'much': 3, 'top': 3, 'ongoing': 3, 'hard': 3, 'loyal': 3, 'Many': 3, 'geopolitical': 3, 'powerful': 3, 'pro': 3, 'recent': 3, 'same': 3, 'antiwar': 3, 'conservative': 3, 'pragmatic': 3, 'strategic': 3, 'usual': 2, 'short': 2, 'key': 2, 'shocking': 2, 'open': 2, 'bad': 2, 'unwelcome': 2, 'deep': 2, 'long': 2, 'ruthless': 2, 'volatile': 2, 'unpredictable': 2, 'Other': 2, 'passive': 2, 'resilient': 2, 'presidential': 2, 'special': 2, 'major': 2, 'large': 2, 'aloof': 2, 'general': 2, 'ready': 2, 'hostile': 2, 'nationalist': 2, 'very': 2, 'influential': 2, 'current': 2, 'elite': 2, 'fat': 2, 'provincial': 2, 'brutal': 2, 'anxious': 2, 'desperate': 2, 'chaotic': 2, 'war': 2, 'national': 2, 'traditional': 2, 'former': 2, 'deputy': 2, 'entire': 2, 'enormous': 2, 'personal': 2, 'true': 2, 'armed': 2, 'uncertain': 2, 'complicated': 1, 'successful': 1, 'tremendous': 1, 'flexible': 1, 'intolerable': 1, 'tangible': 1, 'good': 1, 'Unknown': 1, 'swift': 1, 'Belarusian': 1, 'informed': 1, 'unprecedented': 1, 'contemporary': 1, 'sure': 1, 'overall': 1, 'stable': 1, 'ostensible': 1, 'seeming': 1, 'deceptive': 1, 'difficult': 1, 'profound': 1, 'underway': 1, 'ultranationalist': 1, 'habitual': 1, 'immediate': 1, 'cohesive': 1, 'lacking': 1, 'outright': 1, 'disorderly': 1, 'dangerous': 1, 'unexpected': 1, 'early': 1, 'annual': 1, 'unknown': 1, 'paramilitary': 1, 'various': 1, 'continual': 1, 'mute': 1, 'rare': 1, 'controllable': 1, 'cool': 1, 'fine': 1, 'harmful': 1, 'prudent': 1, 'cautious': 1, 'strong': 1, 'late': 1, 'useful': 1, 'certain': 1, 'clear': 1, 'sobering': 1, 'voluble': 1, 'detached': 1, 'harder': 1, 'unflappable': 1, 'unscheduled': 1, 'unprepared': 1, 'adoring': 1, 'acute': 1, 'irresponsible': 1, 'weak': 1, 'potential': 1, 'deeper': 1, 'stringent': 1, 'official': 1, 'regional': 1, 'near': 1, 'ambivalent': 1, 'famous': 1, 'wealthy': 1, 'sorry': 1, 'rich': 1, 'just': 1, 'affluent': 1, 'parasitic': 1, 'Kremlin': 1, 'involved': 1, 'Anti': 1, 'independent': 1, 'Bakhmut': 1, 'important': 1, 'first': 1, 'stratospheric': 1, 'spoiled': 1, 'local': 1, 'simple': 1, 'warm': 1, 'deserted': 1, 'broader': 1, 'challenging': 1, 'determined': 1, 'inefficient': 1, 'instructive': 1, 'highest': 1, 'tough': 1, 'committed': 1, 'imperial': 1, 'resolute': 1, 'decisive': 1, 'consistent': 1, 'latest': 1, 'slight': 1, 'frustrated': 1, 'lethargic': 1, 'unimaginable': 1, 'repressive': 1, 'necessary': 1, 'tolerant': 1, 'minor': 1, 'suspicious': 1, 'indulgent': 1, 'privileged': 1, 'luxurious': 1, 'distant': 1, 'pressured': 1, 'liberal': 1, 'minded': 1, 'massive': 1, 'patriotic': 1, 'larger': 1, 'active': 1, 'hardcore': 1, 'younger': 1, 'older': 1, 'antiliberal': 1, 'spiritual': 1, 'Worse': 1, 'wartime': 1, 'great': 1, 'absolute': 1, 'decent': 1, 'dismal': 1, 'confrontational': 1, 'jingoistic': 1, 'nitty': 1, 'young': 1, 'chief': 1, 'prime': 1, 'fetched': 1, 'bizarre': 1, 'catastrophic': 1, 'main': 1, 'suppressed': 1, 'administrative': 1, 'hundredth': 1, 'evil': 1, 'real': 1, 'physical': 1, 'responsible': 1, 'darker': 1, 'fractious': 1, 'Most': 1, 'tentative': 1, 'indiscriminate': 1, 'rancorous': 1, 'competitive': 1, 'obsolete': 1, 'obsessed': 1, 'accurate': 1, 'radical': 1, 'alternative': 1, 'conceivable': 1, 'financial': 1, 'economic': 1, 'diplomatic': 1, 'Putin': 1, 'managerial': 1, 'genuine': 1, 'utter': 1, 'largest': 1, 'dynamic': 1, 'adept': 1, 'flattering': 1, 'innumerable': 1, 'international': 1, 'few': 1, 'extreme': 1, 'concurrent': 1, 'harsher': 1, 'firm': 1, 'capable': 1, 'narrow': 1, 'Contrary': 1, 'coordinated': 1, 'coherent': 1, 'exact': 1, 'martial': 1, 'wary': 1, 'autonomous': 1, 'militarized': 1, 'heavy': 1, 'additional': 1, 'interior': 1, 'possible': 1, 'further': 1, 'rival': 1, 'historic': 1, 'liberating': 1, 'popular': 1, 'effective': 1, 'back': 1, 'vulnerable': 1, 'clumsy': 1, 'unchanneled': 1, 'True': 1, 'foreseeable': 1, 'ineffective': 1, 'secondary': 1, 'dominant': 1, 'urgent': 1, 'bleak': 1, 'greater': 1, 'ideological': 1, 'stricter': 1, 'prominent': 1, 'predictable': 1, 'contradictory': 1, 'historical': 1})\n",
      "\n",
      "AUX Counter({'has': 32, 'is': 25, 'are': 22, 'may': 19, 'will': 19, 'have': 17, 'was': 16, 'had': 14, 'be': 14, 'were': 12, 'would': 9, 'could': 8, 'been': 7, 'can': 7, 'do': 2, 'does': 2, 'Do': 1, 'did': 1, 'might': 1})\n",
      "\n",
      "DET Counter({'the': 380, 'a': 83, 'The': 29, 'an': 20, 'these': 10, 'A': 7, 'These': 6, 'another': 5, 'any': 4, 'this': 4, 'all': 4, 'no': 3, 'that': 3, 'those': 3, 'This': 3, 'Some': 2, 'That': 2, 'some': 2, 'every': 1, 'be—“the': 1, 'THE': 1, 'All': 1, 'No': 1})\n",
      "\n",
      "PRON Counter({'that': 28, 'their': 21, 'its': 15, 'his': 15, 'who': 14, 'they': 12, 'it': 12, 'They': 9, 'he': 7, 'him': 7, 'It': 6, 'which': 6, 'them': 5, 'itself': 3, 'He': 3, 'themselves': 3, 'us': 3, 'His': 3, 'what': 3, 'anything': 2, 'nothing': 2, 'The': 2, 'something': 2, 'That': 2, 'those': 1, 'everything': 1, 'all': 1, 'himself': 1, 'SOMETHING': 1, 'There': 1, 'someone': 1, 'she': 1, 'whom': 1, 'This': 1, 'both': 1, 'Some': 1, 'the': 1})\n",
      "\n",
      "NOUN Counter({'war': 44, 'state': 21, 'regime': 18, 'elites': 14, 'mutiny': 14, 'forces': 11, 'country': 10, 'events': 10, 'hawks': 10, 'security': 9, 'government': 9, 'officials': 9, 'rebellion': 8, 'president': 8, 'authorities': 8, 'city': 7, 'people': 7, 'home': 6, 'public': 6, 'control': 6, 'sentiment': 6, 'invasion': 5, 'front': 5, 'months': 5, 'territory': 5, 'news': 5, 'uprising': 5, 'world': 5, 'elite': 5, 'end': 5, 'army': 5, 'military': 5, 'ideologues': 5, 'attacks': 5, 'percent': 5, 'future': 5, 'time': 5, 'figures': 5, 'society': 5, 'power': 4, 'region': 4, 'event': 4, 'response': 4, 'services': 4, 'situation': 4, 'developments': 4, 'challenges': 4, 'groups': 4, 'support': 4, 'conflict': 4, 'defense': 4, 'minister': 4, 'resources': 4, 'drone': 4, 'attack': 4, 'polling': 4, 'anxiety': 3, 'leader': 3, 'attention': 3, 'perception': 3, 'responsibility': 3, 'space': 3, 'dissent': 3, 'order': 3, 'patriotism': 3, 'administration': 3, 'stability': 3, 'capacity': 3, 'sources': 3, 'command': 3, 'soldiers': 3, 'staff': 3, 'revolt': 3, 'force': 3, 'profile': 3, 'activities': 3, 'wake': 3, 'hands': 3, 'observers': 3, 'need': 3, 'media': 3, 'ranks': 3, 'year': 3, 'reality': 3, 'decline': 3, 'head': 3, 'course': 3, 'notion': 3, 'leadership': 3, 'sanctions': 2, 'economy': 2, 'vulnerability': 2, 'sense': 2, 'pressure': 2, 'seizure': 2, 'drones': 2, 'border': 2, 'company': 2, 'column': 2, 'troops': 2, 'number': 2, 'pilots': 2, 'part': 2, 'crisis': 2, 'hand': 2, 'carpet': 2, 'life': 2, 'liners': 2, 'guard': 2, 'realities': 2, 'weakening': 2, 'flaws': 2, 'risks': 2, 'term': 2, 'way': 2, 'weakness': 2, 'conflicts': 2, 'position': 2, 'regions': 2, 'line': 2, 'goals': 2, 'insiders': 2, 'operation': 2, 'approval': 2, 'ratings': 2, 'discontent': 2, 'concern': 2, 'reports': 2, 'commander': 2, 'product': 2, 'inaction': 2, 'stance': 2, 'chief': 2, 'failures': 2, 'outfit': 2, 'behavior': 2, 'members': 2, 'years': 2, 'citizens': 2, 'existence': 2, 'percentage': 2, 'institutions': 2, 'threats': 2, 'class': 2, 'bloggers': 2, 'visibility': 2, 'firm': 2, 'fighters': 2, 'politicians': 2, 'eyewitness': 2, 'cats': 2, 'powers': 2, 'action': 2, 'peace': 2, 'threat': 2, 'ambitions': 2, 'polls': 2, 'confidence': 2, 'words': 2, 'pundits': 2, 'opposition': 2, 'protests': 2, 'ground': 2, 'generation': 2, 'ideas': 2, 'interests': 2, 'uncertainty': 2, 'lack': 2, 'policy': 2, 'affairs': 2, 'establishment': 2, 'turn': 2, 'opponents': 2, 'setbacks': 2, 'backdrop': 2, 'radicalization': 2, 'factions': 2, 'priorities': 2, 'fragmentation': 2, 'problems': 2, 'certainties': 2, 'actions': 2, 'campaign': 1, 'autumn': 1, 'things': 1, 'counterattack': 1, 'positions': 1, 'mobilization': 1, 'period': 1, 'strike': 1, 'bridge': 1, 'link': 1, 'mainland': 1, 'smoke': 1, 'flames': 1, 'redlines': 1, 'exception': 1, 'meantime': 1, 'assailants': 1, 'Paramilitaries': 1, 'aircraft': 1, 'dozen': 1, 'process': 1, 'resolution': 1, 'deal': 1, 'handling': 1, 'traitor': 1, 'negotiations': 1, 'depth': 1, 'analysis': 1, 'status': 1, 'quo': 1, 'lives': 1, 'generals': 1, 'brass': 1, 'personnel': 1, 'resilience': 1, 'indifference': 1, 'shifts': 1, 'attitude': 1, 'militarization': 1, 'touch': 1, 'inclination': 1, 'favor': 1, 'incidents': 1, 'extreme': 1, 'emergence': 1, 'Threats': 1, 'revelations': 1, 'entity': 1, 'rife': 1, 'contradictions': 1, 'predictability': 1, 'debate': 1, 'days': 1, 'parade': 1, 'attackers': 1, 'targets': 1, 'mayhem': 1, 'settlements': 1, 'shelling': 1, 'button': 1, 'Television': 1, 'talk': 1, 'shows': 1, 'efficacy': 1, 'air': 1, 'defenses': 1, 'narrative': 1, 'ruthlessness': 1, 'masters': 1, 'exceptions': 1, 'soil': 1, 'propensity': 1, 'belief': 1, 'path': 1, 'victory': 1, 'cues': 1, 'demeanor': 1, 'aversion': 1, 'impact': 1, 'insider': 1, 'caveat': 1, 'objectives': 1, 'frustration': 1, 'ultranationalists': 1, 'addition': 1, 'center': 1, 'operations': 1, 'helicopters': 1, 'revelation': 1, 'outrage': 1, 'danger': 1, 'caterer': 1, 'reluctance': 1, 'management': 1, 'negligence': 1, 'foot': 1, 'tens': 1, 'thousands': 1, 'thanks': 1, 'billions': 1, 'dollars': 1, 'funding': 1, 'access': 1, 'links': 1, 'aura': 1, 'competence': 1, 'week': 1, 'appearance': 1, 'crowd': 1, 'evidence': 1, 'affirmation': 1, 'cameras': 1, 'babies': 1, 'selfies': 1, 'scene': 1, 'interactions': 1, 'pandemic': 1, 'closeness': 1, 'spectacle': 1, 'sign': 1, 'adulation': 1, 'measure': 1, 'mishandling': 1, 'bewilderment': 1, 'systems': 1, 'frailty': 1, 'inability': 1, 'safety': 1, 'capital': 1, 'failure': 1, 'enemies': 1, 'cursory': 1, 'look': 1, 'discussions': 1, 'speculation': 1, 'presence': 1, 'sympathizers': 1, 'back': 1, 'ROTTEN': 1, 'contract': 1, 'return': 1, 'freedom': 1, 'annexation': 1, 'value': 1, 'protection': 1, 'upsurge': 1, 'hunger': 1, 'right': 1, 'turmoil': 1, 'crackdowns': 1, 'liberals': 1, 'Polls': 1, 'jump': 1, 'cabinet': 1, 'governors': 1, 'parliament': 1, 'party': 1, 'passivity': 1, 'face': 1, 'problem': 1, 'signs': 1, 'ability': 1, 'responsibilities': 1, 'upscale': 1, 'suburb': 1, 'users': 1, 'deserts': 1, 'symbol': 1, 'era': 1, 'call': 1, 'salvage': 1, 'rise': 1, 'popularity': 1, 'capture': 1, 'Wagner': 1, 'month': 1, 'study': 1, 'group': 1, 'triumph': 1, 'climb': 1, 'beginning': 1, '158th': 1, 'brazen': 1, 'confrontation': 1, 'complaints': 1, 'ammunition': 1, 'crusader': 1, 'corruption': 1, 'post': 1, 'man': 1, 'stripe': 1, 'color': 1, 'welcome': 1, 'residents': 1, 'disgruntlement': 1, 'extent': 1, 'ease': 1, 'incredulity': 1, 'buildings': 1, 'blink': 1, 'eye': 1, 'frontline': 1, 'building': 1, 'troubles': 1, 'bleaker': 1, 'situations': 1, 'rejection': 1, 'result': 1, 'dissatisfaction': 1, 'prosecution': 1, 'Reactions': 1, 'incursions': 1, 'paramilitaries': 1, 'spring': 1, 'fate': 1, 'desire': 1, 'talks': 1, 'withdrawal': 1, 'respondents': 1, 'times': 1, 'fight': 1, 'pursuit': 1, 'survival': 1, 'faction': 1, 'enemy': 1, 'supporters': 1, 'op': 1, 'ed': 1, 'director': 1, 'results': 1, 'bolder': 1, 'shift': 1, 'attitudes': 1, 'prospect': 1, 'destabilization': 1, 'disorder': 1, 'reaction': 1, 'second': 1, 'managers': 1, 'corporations': 1, 'shell': 1, 'vulnerabilities': 1, 'quash': 1, 'complacency': 1, 'conviction': 1, 'decay': 1, 'dynamics': 1, 'incoherence': 1, 'jolt': 1, 'LINE': 1, 'camp': 1, 'service': 1, 'conservatives': 1, 'correspondents': 1, 'TV': 1, 'screws': 1, 'traitors': 1, 'conditions': 1, 'alternative': 1, 'suggestion': 1, 'mind': 1, 'portion': 1, 'crackdown': 1, 'mood': 1, 'distance': 1, 'lifestyles': 1, 'business': 1, 'room': 1, 'raft': 1, 'bills': 1, 'antiregime': 1, 'repression': 1, 'stiffening': 1, 'feeling': 1, 'politics': 1, 'conversation': 1, 'cohort': 1, 'likes': 1, 'secretary': 1, 'chair': 1, 'brand': 1, 'emphasis': 1, 'values': 1, 'importance': 1, 'family': 1, 'children': 1, 'bonds': 1, 'primacy': 1, 'rights': 1, 'men': 1, 'climate': 1, 'uniqueness': 1, 'mainstream': 1, 'aid': 1, 'exit': 1, 'strategy': 1, 'Leaders': 1, 'rhetoric': 1, 'gritty': 1, 'star': 1, 'wanes': 1, 'yesterday': 1, 'technocrats': 1, 'adviser': 1, 'charge': 1, 'fall': 1, 'reconstruction': 1, 'territories': 1, 'lot': 1, 'areas': 1, 'courage': 1, 'diligence': 1, 'practitioners': 1, 'information': 1, 'contrast': 1, 'conspiracy': 1, 'theories': 1, 'eruption': 1, 'volcano': 1, 'debris': 1, 'beneficiaries': 1, 'insurgency': 1, 'occasion': 1, 'scores': 1, 'desk': 1, 'jockey': 1, 'leaders': 1, 'facts': 1, 'rant': 1, 'interview': 1, 'indispensability': 1, 'clash': 1, 'struggles': 1, 'businessmen': 1, 'Chekists': 1, 'defeat': 1, 'attempt': 1, 'moves': 1, 'factor': 1, 'truth': 1, 'senses': 1, 'step': 1, 'understanding': 1, 'tendency': 1, 'alarm': 1, 'bells': 1, 'activists': 1, 'reforms': 1, 'dictatorship': 1, 'strategies': 1, 'necessity': 1, 'one': 1, 'crimes': 1, 'carnage': 1, 'system': 1, 'development': 1, 'solidifying': 1, 'realization': 1, 'inadequacies': 1, 'style': 1, 'ways': 1, 'miscalculations': 1, 'decision': 1, 'loss': 1, 'charges': 1, 'justice': 1, 'killings': 1, 'budget': 1, 'expenditures': 1, 'tool': 1, 'emotions': 1, 'beliefs': 1, 'advantage': 1, 'populace': 1, 'documents': 1, 'tales': 1, 'liberation': 1, 'irritation': 1, 'skills': 1, 'moods': 1, 'anger': 1, 'optimism': 1, 'views': 1, 'foes': 1, 'vision': 1, 'coherence': 1, 'thinking': 1, 'Factions': 1, 'analysts': 1, 'attempts': 1, 'militias': 1, 'panoply': 1, 'opposite': 1, 'aide': 1, 'bodyguard': 1, 'units': 1, 'subculture': 1, 'Cossacks': 1, 'move': 1, 'proliferation': 1, 'weaponry': 1, 'ministry': 1, 'purges': 1, 'successor': 1, 'concentration': 1, 'prerogatives': 1, 'mission': 1, 'quagmire': 1, 'deputies': 1, 'senators': 1, 'approach': 1, 'impatience': 1, 'risk': 1, 'form': 1, 'accountability': 1, 'responses': 1, 'antiestablishment': 1, 'agenda': 1, 'reverse': 1, 'fractiousness': 1, 'influence': 1, 'role': 1, 'changes': 1, 'circumstances': 1, 'direction': 1, 'act': 1, 'destiny': 1, 'fulfillment': 1, 'script': 1})\n",
      "\n",
      "PROPN Counter({'Putin': 53, 'Prigozhin': 37, 'Russia': 27, 'Kremlin': 24, 'Russians': 23, 'Ukraine': 20, 'Moscow': 12, 'Wagner': 12, 'Shoigu': 8, 'May': 7, 'June': 7, 'Ukrainians': 6, 'West': 5, 'Rostov': 5, 'Levada': 5, 'Patrushev': 5, 'Don': 4, 'Belgorod': 3, 'Alexander': 3, 'Defense': 3, 'Ministry': 3, 'Security': 3, 'Medvedev': 3, 'Zolotov': 3, 'Rosgvardia': 3, 'President': 2, 'Crimea': 2, 'Bakhmut': 2, 'Sergey': 2, 'Rublyovka': 2, 'Foreign': 2, 'Minister': 2, 'Ordinary': 2, 'FSB': 2, 'Sergei': 2, 'Council': 2, 'Dmitry': 2, 'Kyiv': 2, 'Americans': 2, 'Vladimir': 1, 'February': 1, 'Kharkiv': 1, 'September': 1, 'October': 1, 'Kerch': 1, 'Strait': 1, 'Yevgeny': 1, 'Lukashenko': 1, 'FRAGILE': 1, 'STATE': 1, 'Victory': 1, 'Day': 1, 'Red': 1, 'Square': 1, 'Ermochenko': 1, 'Reuters': 1, 'Valery': 1, 'Gerasimov': 1, 'Dagestan': 1, 'COVID-19': 1, 'United': 1, 'Yeltsin': 1, 'Center': 1, 'Romir': 1, 'Lavrov': 1, 'Prime': 1, 'Mikhail': 1, 'Mishustin': 1, 'Facebook': 1, 'Federal': 1, 'Services': 1, 'Forbes': 1, 'Denis': 1, 'Volkov': 1, 'HARDENING': 1, 'Bastrykin': 1, 'Investigative': 1, 'Committee': 1, 'Narysh\\xadkin': 1, 'Intelligence': 1, 'Service': 1, 'Nikolai': 1, 'Vyacheslav': 1, 'Volodin': 1, 'State': 1, 'Duma': 1, 'Putinism': 1, 'Kiriyenko': 1, 'Marat': 1, 'Khusnullin': 1, 'Anglo': 1, 'Saxon': 1, 'U.S.': 1, 'Yellowstone': 1, 'National': 1, 'Park': 1, 'August': 1, 'Evgenia': 1, 'Novozhenina': 1, 'Viktor': 1, 'app': 1, 'Telegram': 1, 'SCRIPT': 1, 'Mironov': 1, 'Andrei': 1, 'Troshev': 1})\n",
      "\n"
     ]
    }
   ],
   "source": [
    "# For each part of speech, count occurances of a token if that token matched the given part of speech \n",
    "for part in part_of_speech_tags:\n",
    "    filtered_text = [token.text for token in article_text if token.pos_ == part]\n",
    "    counts_for_part_of_speech = Counter(filtered_text)\n",
    "    print(part, counts_for_part_of_speech)\n",
    "    print() # I am adding extra space for Readability "
   ]
  },
  {
   "cell_type": "markdown",
   "metadata": {},
   "source": [
    "The printout shows the most common words, grouped by part of speech; for verbs the most common is 'become', for nouns the most common is 'war', etc. "
   ]
  },
  {
   "cell_type": "markdown",
   "metadata": {},
   "source": [
    "3. Find a subject/object relationship through the dependency parser in any sentence."
   ]
  },
  {
   "cell_type": "code",
   "execution_count": 12,
   "metadata": {},
   "outputs": [],
   "source": [
    "# Dependency Parser\n",
    "def pr_tree(word, level):\n",
    "    if word.is_punct:\n",
    "        return\n",
    "    for child in word.lefts:\n",
    "        pr_tree(child,level+1)\n",
    "    print('\\t' * level + word.text + ' - ' + word.dep_)\n",
    "    for child in word.rights:\n",
    "        pr_tree(child, level+1)"
   ]
  },
  {
   "cell_type": "code",
   "execution_count": 13,
   "metadata": {},
   "outputs": [
    {
     "name": "stdout",
     "output_type": "stream",
     "text": [
      "\t\tAfter - mark\n",
      "\t\t\t\tRussian - amod\n",
      "\t\t\tPresident - compound\n",
      "\t\t\tVladimir - compound\n",
      "\t\tPutin - nsubj\n",
      "\tlaunched - ccomp\n",
      "\t\t\tan - det\n",
      "\t\tinvasion - dobj\n",
      "\t\t\tof - prep\n",
      "\t\t\t\tUkraine - pobj\n",
      "\t\tin - prep\n",
      "\t\t\tFebruary - pobj\n",
      "\t\t\t\t2022 - nummod\n",
      "\t\tRussian - amod\n",
      "\telites - nsubj\n",
      "acted - ROOT\n",
      "\t\tas - mark\n",
      "\t\tif - mark\n",
      "\t\t\tthe - det\n",
      "\t\twar - nsubj\n",
      "\t\thad - aux\n",
      "\t\tnot - neg\n",
      "\t\treally - advmod\n",
      "\tchanged - advcl\n",
      "\t\tanything - dobj\n",
      "\t\ton - prep\n",
      "\t\t\t\tthe - det\n",
      "\t\t\t\thome - compound\n",
      "\t\t\tfront - pobj\n",
      "---------------------------\n",
      "\t\tEven - advmod\n",
      "\t\tas - mark\n",
      "\t\t\tthe - det\n",
      "\t\tcampaign - nsubj\n",
      "\tfoundered - advcl\n",
      "\t\tand - cc\n",
      "\t\t\tthe - det\n",
      "\t\t\t\tWest - npadvmod\n",
      "\t\t\ttightened - amod\n",
      "\t\tsanctions - conj\n",
      "\t\t\ton - prep\n",
      "\t\t\t\t\tthe - det\n",
      "\t\t\t\t\tRussian - amod\n",
      "\t\t\t\teconomy - pobj\n",
      "\tthose - nsubj\n",
      "\t\twith - prep\n",
      "\t\t\tpower - pobj\n",
      "\t\t\t\tin - prep\n",
      "\t\t\t\t\tMoscow - pobj\n",
      "seemed - ROOT\n",
      "\t\tto - aux\n",
      "\tcarry - xcomp\n",
      "\t\ton - prt\n",
      "\t\tas - prep\n",
      "\t\t\tusual - amod\n",
      "---------------------------\n"
     ]
    }
   ],
   "source": [
    "# Run Parser over article text: \n",
    "iteration_count = 0\n",
    "for sentence in article_text.sents:\n",
    "    pr_tree(sentence.root, 0)\n",
    "    print('---------------------------')\n",
    "    \n",
    "    iteration_count += 1\n",
    "    if iteration_count >= 2:\n",
    "        break"
   ]
  },
  {
   "cell_type": "markdown",
   "metadata": {},
   "source": [
    "The first subject-object relationship in the article is that between 'Putin' (subject). and 'invasion' (object). Note: The above loop can run over the whole article, but makes the resulting output extremely long; I have included a 'break' after 2 iterations. "
   ]
  },
  {
   "cell_type": "markdown",
   "metadata": {},
   "source": [
    "4. Show the most common Entities and their types. "
   ]
  },
  {
   "cell_type": "code",
   "execution_count": 14,
   "metadata": {},
   "outputs": [
    {
     "name": "stdout",
     "output_type": "stream",
     "text": [
      "Russian NORP\n",
      "Vladimir Putin PERSON\n",
      "Ukraine GPE\n",
      "February 2022 DATE\n",
      "Russian NORP\n",
      "Russian NORP\n",
      "Moscow GPE\n",
      "last autumn DATE\n",
      "Ukrainian NORP\n",
      "September 2022 DATE\n",
      "Russian NORP\n",
      "Kremlin ORG\n",
      "October DATE\n",
      "Ukrainian GPE\n",
      "the Kerch Strait LOC\n",
      "Crimea ORG\n",
      "Russia GPE\n",
      "Kremlin ORG\n",
      "months DATE\n",
      "Russia GPE\n"
     ]
    }
   ],
   "source": [
    "iteration_count = 0\n",
    "for entity in article_text.ents:\n",
    "    print(entity, entity.label_)\n",
    "    \n",
    "    iteration_count += 1\n",
    "\n",
    "    if iteration_count >= 20:\n",
    "        break"
   ]
  },
  {
   "cell_type": "markdown",
   "metadata": {},
   "source": [
    "The most common entities are 'Russian' (Entity type: Nationality or religious/political group), Vladimir Putin (Entity type: person), and Ukraine (Entity type: Geo-Political). Note: I again included a break to keep the printout manageable. To avoid repeating this note, I did the same for several below parts of the workbook."
   ]
  },
  {
   "cell_type": "markdown",
   "metadata": {},
   "source": [
    "5. Find Entities and their dependency (hint: entity.root.head)"
   ]
  },
  {
   "cell_type": "code",
   "execution_count": 15,
   "metadata": {},
   "outputs": [
    {
     "name": "stdout",
     "output_type": "stream",
     "text": [
      "Russian ; President\n",
      "Vladimir Putin ; launched\n",
      "Ukraine ; of\n",
      "February 2022 ; in\n",
      "Russian ; elites\n",
      "Russian ; economy\n",
      "Moscow ; in\n",
      "last autumn ; Since\n",
      "Ukrainian ; counterattack\n",
      "September 2022 ; in\n",
      "Russian ; positions\n",
      "Kremlin ; launched\n",
      "October ; in\n",
      "Ukrainian ; strike\n",
      "the Kerch Strait ; bridge\n",
      "Crimea ; between\n",
      "Russia ; Crimea\n",
      "Kremlin ; redlines\n",
      "months ; prior\n",
      "Russia ; war\n"
     ]
    }
   ],
   "source": [
    "iteration_count = 0\n",
    "for entity in article_text.ents:\n",
    "    print(entity,\";\", entity.root.head)\n",
    "    \n",
    "    iteration_count += 1\n",
    "\n",
    "    if iteration_count >= 20:\n",
    "        break"
   ]
  },
  {
   "cell_type": "markdown",
   "metadata": {},
   "source": [
    "The above lists the entities and their dependencies. "
   ]
  },
  {
   "cell_type": "markdown",
   "metadata": {},
   "source": [
    "6. Find the most similar words in the article"
   ]
  },
  {
   "cell_type": "code",
   "execution_count": 16,
   "metadata": {},
   "outputs": [],
   "source": [
    "# Initialize Distinct Token Set\n",
    "distinct_tokens = set()\n",
    "\n",
    "# Creating a Set of All Tokens (i.e. Words) From the Article\n",
    "for token in article_text:\n",
    "    distinct_tokens.add(token.text)"
   ]
  },
  {
   "cell_type": "code",
   "execution_count": 17,
   "metadata": {},
   "outputs": [],
   "source": [
    "# Cleaning the set to remove uninteresting tokens (page breaks, punctuation, stop words etc)\n",
    "cleaned_tokens = [token.lower() for token in distinct_tokens if token not in punctuation and token.lower() not in stop_words and '\\n' not in token and '.' not in token and '\"' not in token]"
   ]
  },
  {
   "cell_type": "code",
   "execution_count": 18,
   "metadata": {
    "scrolled": true
   },
   "outputs": [],
   "source": [
    "# Token Similarity Comparison Function (with functiionality to save the most similar score)\n",
    "highest_similarity_scores = []\n",
    "base_word = []\n",
    "\n",
    "def similarity_finder_save_highest(word, article_text):\n",
    "    # Processor applied to word\n",
    "    word_token = processor(word)\n",
    "    \n",
    "    # Copy of Article for this iteration of loop\n",
    "    article_tokens = article_text.copy()\n",
    "    \n",
    "    # Initialize Similarity Score List (for this iteration)\n",
    "    similarity_scores = []\n",
    "    \n",
    "    for token in article_tokens:\n",
    "        # Skipping Matching Words to avoid 100% similarities\n",
    "        if token.text.lower() == word.lower():\n",
    "            continue\n",
    "        \n",
    "        similarity = word_token.similarity(token)\n",
    "        similarity_scores.append((token.text, similarity))\n",
    "    # Add to list of highest similarities\n",
    "    highest_similarity_scores.append(max(similarity_scores, key=lambda x: x[1]))\n",
    "    base_word.append(word)\n",
    "    # Return Scores for Later Access \n",
    "    return similarity_scores, highest_similarity_scores"
   ]
  },
  {
   "cell_type": "code",
   "execution_count": 19,
   "metadata": {
    "scrolled": true
   },
   "outputs": [
    {
     "name": "stderr",
     "output_type": "stream",
     "text": [
      "C:\\Users\\Brett\\AppData\\Local\\Temp\\ipykernel_25944\\2180956133.py:20: UserWarning: [W007] The model you're using has no word vectors loaded, so the result of the Doc.similarity method will be based on the tagger, parser and NER, which may not give useful similarity judgements. This may happen if you're using one of the small models, e.g. `en_core_web_sm`, which don't ship with word vectors and only use context-sensitive tensors. You can always add your own word vectors, or use one of the larger models instead if available.\n",
      "  similarity = word_token.similarity(token)\n"
     ]
    }
   ],
   "source": [
    "# Loop Through Cleaned Tokens with the similarity finder function\n",
    "for token in cleaned_tokens:\n",
    "    similarity_finder_save_highest(token, article_text)"
   ]
  },
  {
   "cell_type": "code",
   "execution_count": 20,
   "metadata": {},
   "outputs": [],
   "source": [
    "# Convert to dataframe for ease of viewing & sorting\n",
    "base_word_dataframe = pd.DataFrame(base_word)\n",
    "similar_word_dataframe = pd.DataFrame(highest_similarity_scores)\n",
    "similarities_dataframe = pd.concat([base_word_dataframe, similar_word_dataframe], axis = 1)\n",
    "new_column_names = ['Base_Word', 'Comparitive_word','Similarity_Score']\n",
    "similarities_dataframe.columns = new_column_names\n",
    "similarities_dataframe.sort_values(by='Similarity_Score', ascending=False, inplace=True)"
   ]
  },
  {
   "cell_type": "code",
   "execution_count": 21,
   "metadata": {},
   "outputs": [
    {
     "data": {
      "text/html": [
       "<div>\n",
       "<style scoped>\n",
       "    .dataframe tbody tr th:only-of-type {\n",
       "        vertical-align: middle;\n",
       "    }\n",
       "\n",
       "    .dataframe tbody tr th {\n",
       "        vertical-align: top;\n",
       "    }\n",
       "\n",
       "    .dataframe thead th {\n",
       "        text-align: right;\n",
       "    }\n",
       "</style>\n",
       "<table border=\"1\" class=\"dataframe\">\n",
       "  <thead>\n",
       "    <tr style=\"text-align: right;\">\n",
       "      <th></th>\n",
       "      <th>Base_Word</th>\n",
       "      <th>Comparitive_word</th>\n",
       "      <th>Similarity_Score</th>\n",
       "    </tr>\n",
       "  </thead>\n",
       "  <tbody>\n",
       "    <tr>\n",
       "      <th>1314</th>\n",
       "      <td>calling</td>\n",
       "      <td>complicating</td>\n",
       "      <td>0.822883</td>\n",
       "    </tr>\n",
       "    <tr>\n",
       "      <th>54</th>\n",
       "      <td>maintaining</td>\n",
       "      <td>seizing</td>\n",
       "      <td>0.821239</td>\n",
       "    </tr>\n",
       "    <tr>\n",
       "      <th>1153</th>\n",
       "      <td>discussing</td>\n",
       "      <td>complicating</td>\n",
       "      <td>0.821223</td>\n",
       "    </tr>\n",
       "    <tr>\n",
       "      <th>956</th>\n",
       "      <td>directing</td>\n",
       "      <td>complicating</td>\n",
       "      <td>0.811001</td>\n",
       "    </tr>\n",
       "    <tr>\n",
       "      <th>693</th>\n",
       "      <td>deepening</td>\n",
       "      <td>seizing</td>\n",
       "      <td>0.809884</td>\n",
       "    </tr>\n",
       "    <tr>\n",
       "      <th>...</th>\n",
       "      <td>...</td>\n",
       "      <td>...</td>\n",
       "      <td>...</td>\n",
       "    </tr>\n",
       "    <tr>\n",
       "      <th>886</th>\n",
       "      <td>volodin</td>\n",
       "      <td>Leaders</td>\n",
       "      <td>0.407490</td>\n",
       "    </tr>\n",
       "    <tr>\n",
       "      <th>925</th>\n",
       "      <td>facto</td>\n",
       "      <td>obsolete</td>\n",
       "      <td>0.405063</td>\n",
       "    </tr>\n",
       "    <tr>\n",
       "      <th>1059</th>\n",
       "      <td>dozen</td>\n",
       "      <td>.</td>\n",
       "      <td>0.388313</td>\n",
       "    </tr>\n",
       "    <tr>\n",
       "      <th>110</th>\n",
       "      <td>hardcore</td>\n",
       "      <td>quickly</td>\n",
       "      <td>0.380046</td>\n",
       "    </tr>\n",
       "    <tr>\n",
       "      <th>946</th>\n",
       "      <td>mikhail</td>\n",
       "      <td>.</td>\n",
       "      <td>0.359952</td>\n",
       "    </tr>\n",
       "  </tbody>\n",
       "</table>\n",
       "<p>1490 rows × 3 columns</p>\n",
       "</div>"
      ],
      "text/plain": [
       "        Base_Word Comparitive_word  Similarity_Score\n",
       "1314      calling     complicating          0.822883\n",
       "54    maintaining          seizing          0.821239\n",
       "1153   discussing     complicating          0.821223\n",
       "956     directing     complicating          0.811001\n",
       "693     deepening          seizing          0.809884\n",
       "...           ...              ...               ...\n",
       "886       volodin          Leaders          0.407490\n",
       "925         facto         obsolete          0.405063\n",
       "1059        dozen                .          0.388313\n",
       "110      hardcore          quickly          0.380046\n",
       "946       mikhail                .          0.359952\n",
       "\n",
       "[1490 rows x 3 columns]"
      ]
     },
     "execution_count": 21,
     "metadata": {},
     "output_type": "execute_result"
    }
   ],
   "source": [
    "similarities_dataframe"
   ]
  },
  {
   "cell_type": "markdown",
   "metadata": {},
   "source": [
    "The most similar tokens are 'calling' and 'complicating', showing a 0.822 similarity score. "
   ]
  }
 ],
 "metadata": {
  "kernelspec": {
   "display_name": "Python 3 (ipykernel)",
   "language": "python",
   "name": "python3"
  },
  "language_info": {
   "codemirror_mode": {
    "name": "ipython",
    "version": 3
   },
   "file_extension": ".py",
   "mimetype": "text/x-python",
   "name": "python",
   "nbconvert_exporter": "python",
   "pygments_lexer": "ipython3",
   "version": "3.10.9"
  }
 },
 "nbformat": 4,
 "nbformat_minor": 2
}
